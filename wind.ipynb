{
 "cells": [
  {
   "cell_type": "code",
   "execution_count": 1,
   "metadata": {
    "collapsed": true,
    "deletable": true,
    "editable": true
   },
   "outputs": [],
   "source": [
    "import openpyxl"
   ]
  },
  {
   "cell_type": "markdown",
   "metadata": {},
   "source": [
    "#### Load the worksheet read-only"
   ]
  },
  {
   "cell_type": "code",
   "execution_count": 2,
   "metadata": {
    "collapsed": false
   },
   "outputs": [],
   "source": [
    "wb = openpyxl.load_workbook(\"wind.xlsm\", read_only=True)"
   ]
  },
  {
   "cell_type": "markdown",
   "metadata": {},
   "source": [
    "#### Let's take a look around"
   ]
  },
  {
   "cell_type": "code",
   "execution_count": 3,
   "metadata": {
    "collapsed": false
   },
   "outputs": [
    {
     "data": {
      "text/plain": [
       "['Notes',\n",
       " 'ProjectScoresTBL',\n",
       " 'ProjectCommentsTBL',\n",
       " 'ScheduleTBL',\n",
       " 'Agenda',\n",
       " '187',\n",
       " '237',\n",
       " '238',\n",
       " 'EvalDB']"
      ]
     },
     "execution_count": 3,
     "metadata": {},
     "output_type": "execute_result"
    }
   ],
   "source": [
    "wb.get_sheet_names()"
   ]
  },
  {
   "cell_type": "markdown",
   "metadata": {},
   "source": [
    "#### Sheet 187 looks interesting, so let's get a handle on it for convenience"
   ]
  },
  {
   "cell_type": "code",
   "execution_count": 4,
   "metadata": {
    "collapsed": true
   },
   "outputs": [],
   "source": [
    "project187 = wb.get_sheet_by_name('187')"
   ]
  },
  {
   "cell_type": "markdown",
   "metadata": {},
   "source": [
    "#### Looks like the project id is in E5"
   ]
  },
  {
   "cell_type": "code",
   "execution_count": 5,
   "metadata": {
    "collapsed": false
   },
   "outputs": [
    {
     "data": {
      "text/plain": [
       "'187'"
      ]
     },
     "execution_count": 5,
     "metadata": {},
     "output_type": "execute_result"
    }
   ],
   "source": [
    "project187['E5'].value"
   ]
  },
  {
   "cell_type": "code",
   "execution_count": 6,
   "metadata": {
    "collapsed": false
   },
   "outputs": [
    {
     "data": {
      "text/plain": [
       "'Mike Kelly'"
      ]
     },
     "execution_count": 6,
     "metadata": {},
     "output_type": "execute_result"
    }
   ],
   "source": [
    "project187['E4'].value"
   ]
  },
  {
   "cell_type": "markdown",
   "metadata": {},
   "source": [
    "#### Use a constant to make the code more readable"
   ]
  },
  {
   "cell_type": "code",
   "execution_count": 7,
   "metadata": {
    "collapsed": true
   },
   "outputs": [],
   "source": [
    "REVIEWER_LOCATION = 'E4'"
   ]
  },
  {
   "cell_type": "code",
   "execution_count": 8,
   "metadata": {
    "collapsed": true
   },
   "outputs": [],
   "source": [
    "reviewer = project187[REVIEWER_LOCATION].value"
   ]
  },
  {
   "cell_type": "code",
   "execution_count": 9,
   "metadata": {
    "collapsed": false
   },
   "outputs": [
    {
     "data": {
      "text/plain": [
       "'Mike Kelly'"
      ]
     },
     "execution_count": 9,
     "metadata": {},
     "output_type": "execute_result"
    }
   ],
   "source": [
    "reviewer"
   ]
  },
  {
   "cell_type": "markdown",
   "metadata": {},
   "source": [
    "#### Looking around"
   ]
  },
  {
   "cell_type": "code",
   "execution_count": 10,
   "metadata": {
    "collapsed": false
   },
   "outputs": [
    {
     "name": "stdout",
     "output_type": "stream",
     "text": [
      "(<openpyxl.cell.read_only.ReadOnlyCell object at 0x10d2c3360>, <openpyxl.cell.read_only.ReadOnlyCell object at 0x10d2c3410>, <openpyxl.cell.read_only.ReadOnlyCell object at 0x10d2c3048>, <openpyxl.cell.read_only.ReadOnlyCell object at 0x10d2c30a0>, <openpyxl.cell.read_only.ReadOnlyCell object at 0x10d2c34c0>, <openpyxl.cell.read_only.ReadOnlyCell object at 0x10d2c3a40>, <openpyxl.cell.read_only.EmptyCell object at 0x10b094bb0>, <openpyxl.cell.read_only.ReadOnlyCell object at 0x10d2c39e8>)\n",
      "(<openpyxl.cell.read_only.ReadOnlyCell object at 0x10d2c3258>, <openpyxl.cell.read_only.ReadOnlyCell object at 0x10d2c3830>, <openpyxl.cell.read_only.ReadOnlyCell object at 0x10d2c3888>, <openpyxl.cell.read_only.ReadOnlyCell object at 0x10d2c38e0>, <openpyxl.cell.read_only.ReadOnlyCell object at 0x10d2c3938>, <openpyxl.cell.read_only.ReadOnlyCell object at 0x10d2c3990>, <openpyxl.cell.read_only.EmptyCell object at 0x10b094bb0>, <openpyxl.cell.read_only.ReadOnlyCell object at 0x10d2990a0>)\n",
      "(<openpyxl.cell.read_only.ReadOnlyCell object at 0x10d2c3048>, <openpyxl.cell.read_only.ReadOnlyCell object at 0x10d2c30a0>, <openpyxl.cell.read_only.ReadOnlyCell object at 0x10d2c34c0>, <openpyxl.cell.read_only.ReadOnlyCell object at 0x10d2c3a40>, <openpyxl.cell.read_only.ReadOnlyCell object at 0x10d2c39e8>, <openpyxl.cell.read_only.ReadOnlyCell object at 0x10d2c3518>, <openpyxl.cell.read_only.EmptyCell object at 0x10b094bb0>, <openpyxl.cell.read_only.ReadOnlyCell object at 0x10d2c3570>)\n",
      "(<openpyxl.cell.read_only.ReadOnlyCell object at 0x10d2c3888>, <openpyxl.cell.read_only.ReadOnlyCell object at 0x10d2c38e0>, <openpyxl.cell.read_only.ReadOnlyCell object at 0x10d2c3938>, <openpyxl.cell.read_only.ReadOnlyCell object at 0x10d2c3990>, <openpyxl.cell.read_only.ReadOnlyCell object at 0x10d2c3360>, <openpyxl.cell.read_only.ReadOnlyCell object at 0x10d2c3410>, <openpyxl.cell.read_only.EmptyCell object at 0x10b094bb0>, <openpyxl.cell.read_only.ReadOnlyCell object at 0x10d2990a0>)\n",
      "(<openpyxl.cell.read_only.ReadOnlyCell object at 0x10d2c34c0>, <openpyxl.cell.read_only.ReadOnlyCell object at 0x10d2c3a40>, <openpyxl.cell.read_only.ReadOnlyCell object at 0x10d2c39e8>, <openpyxl.cell.read_only.ReadOnlyCell object at 0x10d2c3518>, <openpyxl.cell.read_only.ReadOnlyCell object at 0x10d2c3570>, <openpyxl.cell.read_only.ReadOnlyCell object at 0x10d2c3258>, <openpyxl.cell.read_only.EmptyCell object at 0x10b094bb0>, <openpyxl.cell.read_only.ReadOnlyCell object at 0x10d2c3830>)\n",
      "(<openpyxl.cell.read_only.ReadOnlyCell object at 0x10d2c3938>, <openpyxl.cell.read_only.ReadOnlyCell object at 0x10d2c3990>, <openpyxl.cell.read_only.ReadOnlyCell object at 0x10d2c3360>, <openpyxl.cell.read_only.ReadOnlyCell object at 0x10d2c3410>, <openpyxl.cell.read_only.ReadOnlyCell object at 0x10d2c3048>, <openpyxl.cell.read_only.ReadOnlyCell object at 0x10d2c30a0>, <openpyxl.cell.read_only.EmptyCell object at 0x10b094bb0>, <openpyxl.cell.read_only.ReadOnlyCell object at 0x10d2990a0>)\n",
      "(<openpyxl.cell.read_only.ReadOnlyCell object at 0x10d2c39e8>, <openpyxl.cell.read_only.ReadOnlyCell object at 0x10d2c3518>, <openpyxl.cell.read_only.ReadOnlyCell object at 0x10d2c3570>, <openpyxl.cell.read_only.ReadOnlyCell object at 0x10d2c3258>, <openpyxl.cell.read_only.ReadOnlyCell object at 0x10d2c3830>, <openpyxl.cell.read_only.ReadOnlyCell object at 0x10d2c3888>, <openpyxl.cell.read_only.EmptyCell object at 0x10b094bb0>, <openpyxl.cell.read_only.ReadOnlyCell object at 0x10d2c38e0>)\n",
      "(<openpyxl.cell.read_only.ReadOnlyCell object at 0x10d2c3360>, <openpyxl.cell.read_only.ReadOnlyCell object at 0x10d2c3410>, <openpyxl.cell.read_only.ReadOnlyCell object at 0x10d2c3048>, <openpyxl.cell.read_only.ReadOnlyCell object at 0x10d2c30a0>, <openpyxl.cell.read_only.ReadOnlyCell object at 0x10d2c34c0>, <openpyxl.cell.read_only.ReadOnlyCell object at 0x10d2c3a40>, <openpyxl.cell.read_only.EmptyCell object at 0x10b094bb0>, <openpyxl.cell.read_only.ReadOnlyCell object at 0x10d2990a0>)\n",
      "(<openpyxl.cell.read_only.ReadOnlyCell object at 0x10d2c3570>, <openpyxl.cell.read_only.ReadOnlyCell object at 0x10d2c3258>, <openpyxl.cell.read_only.ReadOnlyCell object at 0x10d2c3830>, <openpyxl.cell.read_only.ReadOnlyCell object at 0x10d2c3888>, <openpyxl.cell.read_only.ReadOnlyCell object at 0x10d2c38e0>, <openpyxl.cell.read_only.ReadOnlyCell object at 0x10d2c3938>, <openpyxl.cell.read_only.EmptyCell object at 0x10b094bb0>, <openpyxl.cell.read_only.ReadOnlyCell object at 0x10d2c3990>)\n",
      "(<openpyxl.cell.read_only.ReadOnlyCell object at 0x10d2c3048>, <openpyxl.cell.read_only.ReadOnlyCell object at 0x10d2c30a0>, <openpyxl.cell.read_only.ReadOnlyCell object at 0x10d2c34c0>, <openpyxl.cell.read_only.ReadOnlyCell object at 0x10d2c3a40>, <openpyxl.cell.read_only.ReadOnlyCell object at 0x10d2c39e8>, <openpyxl.cell.read_only.ReadOnlyCell object at 0x10d2c3518>, <openpyxl.cell.read_only.EmptyCell object at 0x10b094bb0>, <openpyxl.cell.read_only.ReadOnlyCell object at 0x10d2990a0>)\n",
      "(<openpyxl.cell.read_only.ReadOnlyCell object at 0x10d2c3830>, <openpyxl.cell.read_only.ReadOnlyCell object at 0x10d2c3888>, <openpyxl.cell.read_only.ReadOnlyCell object at 0x10d2c38e0>, <openpyxl.cell.read_only.ReadOnlyCell object at 0x10d2c3938>, <openpyxl.cell.read_only.ReadOnlyCell object at 0x10d2c3990>, <openpyxl.cell.read_only.ReadOnlyCell object at 0x10d2c3360>, <openpyxl.cell.read_only.EmptyCell object at 0x10b094bb0>, <openpyxl.cell.read_only.ReadOnlyCell object at 0x10d2c3410>)\n",
      "(<openpyxl.cell.read_only.ReadOnlyCell object at 0x10d2c34c0>, <openpyxl.cell.read_only.ReadOnlyCell object at 0x10d2c3a40>, <openpyxl.cell.read_only.ReadOnlyCell object at 0x10d2c39e8>, <openpyxl.cell.read_only.ReadOnlyCell object at 0x10d2c3518>, <openpyxl.cell.read_only.ReadOnlyCell object at 0x10d2c3570>, <openpyxl.cell.read_only.ReadOnlyCell object at 0x10d2c3258>, <openpyxl.cell.read_only.EmptyCell object at 0x10b094bb0>, <openpyxl.cell.read_only.ReadOnlyCell object at 0x10d2990a0>)\n",
      "(<openpyxl.cell.read_only.ReadOnlyCell object at 0x10d2c38e0>, <openpyxl.cell.read_only.ReadOnlyCell object at 0x10d2c3938>, <openpyxl.cell.read_only.ReadOnlyCell object at 0x10d2c3990>, <openpyxl.cell.read_only.ReadOnlyCell object at 0x10d2c3360>, <openpyxl.cell.read_only.ReadOnlyCell object at 0x10d2c3410>, <openpyxl.cell.read_only.ReadOnlyCell object at 0x10d2c3048>, <openpyxl.cell.read_only.EmptyCell object at 0x10b094bb0>, <openpyxl.cell.read_only.ReadOnlyCell object at 0x10d2c30a0>)\n",
      "(<openpyxl.cell.read_only.ReadOnlyCell object at 0x10d2c39e8>, <openpyxl.cell.read_only.ReadOnlyCell object at 0x10d2c3518>, <openpyxl.cell.read_only.ReadOnlyCell object at 0x10d2c3570>, <openpyxl.cell.read_only.ReadOnlyCell object at 0x10d2c3258>, <openpyxl.cell.read_only.ReadOnlyCell object at 0x10d2c3830>, <openpyxl.cell.read_only.ReadOnlyCell object at 0x10d2c3888>, <openpyxl.cell.read_only.EmptyCell object at 0x10b094bb0>, <openpyxl.cell.read_only.EmptyCell object at 0x10b094bb0>)\n",
      "(<openpyxl.cell.read_only.ReadOnlyCell object at 0x10d2c3990>, <openpyxl.cell.read_only.ReadOnlyCell object at 0x10d2c3360>, <openpyxl.cell.read_only.ReadOnlyCell object at 0x10d2c3410>, <openpyxl.cell.read_only.ReadOnlyCell object at 0x10d2c3048>, <openpyxl.cell.read_only.ReadOnlyCell object at 0x10d2c30a0>, <openpyxl.cell.read_only.ReadOnlyCell object at 0x10d2c34c0>, <openpyxl.cell.read_only.ReadOnlyCell object at 0x10d2c3a40>, <openpyxl.cell.read_only.ReadOnlyCell object at 0x10d2990a0>)\n",
      "(<openpyxl.cell.read_only.ReadOnlyCell object at 0x10d2c3570>, <openpyxl.cell.read_only.ReadOnlyCell object at 0x10d2c3258>, <openpyxl.cell.read_only.ReadOnlyCell object at 0x10d2c3830>, <openpyxl.cell.read_only.ReadOnlyCell object at 0x10d2c3888>, <openpyxl.cell.read_only.ReadOnlyCell object at 0x10d2c38e0>, <openpyxl.cell.read_only.ReadOnlyCell object at 0x10d2c3938>, <openpyxl.cell.read_only.ReadOnlyCell object at 0x10d299048>, <openpyxl.cell.read_only.ReadOnlyCell object at 0x10d299f10>)\n",
      "(<openpyxl.cell.read_only.ReadOnlyCell object at 0x10d2c3410>, <openpyxl.cell.read_only.ReadOnlyCell object at 0x10d2c3048>, <openpyxl.cell.read_only.ReadOnlyCell object at 0x10d2c30a0>, <openpyxl.cell.read_only.ReadOnlyCell object at 0x10d2c34c0>, <openpyxl.cell.read_only.ReadOnlyCell object at 0x10d2c3a40>, <openpyxl.cell.read_only.ReadOnlyCell object at 0x10d2c39e8>, <openpyxl.cell.read_only.ReadOnlyCell object at 0x10d2c3518>, <openpyxl.cell.read_only.ReadOnlyCell object at 0x10d2990a0>)\n",
      "(<openpyxl.cell.read_only.ReadOnlyCell object at 0x10d2c3830>, <openpyxl.cell.read_only.ReadOnlyCell object at 0x10d2c3888>, <openpyxl.cell.read_only.ReadOnlyCell object at 0x10d2c38e0>, <openpyxl.cell.read_only.ReadOnlyCell object at 0x10d2c3938>, <openpyxl.cell.read_only.ReadOnlyCell object at 0x10d2c3990>, <openpyxl.cell.read_only.ReadOnlyCell object at 0x10d2c3360>, <openpyxl.cell.read_only.ReadOnlyCell object at 0x10d299048>, <openpyxl.cell.read_only.ReadOnlyCell object at 0x10d299f10>)\n",
      "(<openpyxl.cell.read_only.ReadOnlyCell object at 0x10d2c30a0>, <openpyxl.cell.read_only.ReadOnlyCell object at 0x10d2c34c0>, <openpyxl.cell.read_only.ReadOnlyCell object at 0x10d2c3a40>, <openpyxl.cell.read_only.ReadOnlyCell object at 0x10d2c39e8>, <openpyxl.cell.read_only.ReadOnlyCell object at 0x10d2c3518>, <openpyxl.cell.read_only.ReadOnlyCell object at 0x10d2c3570>, <openpyxl.cell.read_only.ReadOnlyCell object at 0x10d2c3258>, <openpyxl.cell.read_only.ReadOnlyCell object at 0x10d2990a0>)\n",
      "(<openpyxl.cell.read_only.ReadOnlyCell object at 0x10d2c38e0>, <openpyxl.cell.read_only.ReadOnlyCell object at 0x10d2c3938>, <openpyxl.cell.read_only.ReadOnlyCell object at 0x10d2c3990>, <openpyxl.cell.read_only.ReadOnlyCell object at 0x10d2c3360>, <openpyxl.cell.read_only.ReadOnlyCell object at 0x10d2c3410>, <openpyxl.cell.read_only.ReadOnlyCell object at 0x10d2c3048>, <openpyxl.cell.read_only.ReadOnlyCell object at 0x10d299048>, <openpyxl.cell.read_only.ReadOnlyCell object at 0x10d299f10>)\n",
      "(<openpyxl.cell.read_only.ReadOnlyCell object at 0x10d2c3a40>, <openpyxl.cell.read_only.ReadOnlyCell object at 0x10d2c39e8>, <openpyxl.cell.read_only.ReadOnlyCell object at 0x10d2c3518>, <openpyxl.cell.read_only.ReadOnlyCell object at 0x10d2c3570>, <openpyxl.cell.read_only.ReadOnlyCell object at 0x10d2c3258>, <openpyxl.cell.read_only.ReadOnlyCell object at 0x10d2c3830>, <openpyxl.cell.read_only.ReadOnlyCell object at 0x10d2c3888>, <openpyxl.cell.read_only.ReadOnlyCell object at 0x10d2990a0>)\n",
      "(<openpyxl.cell.read_only.EmptyCell object at 0x10b094bb0>, <openpyxl.cell.read_only.EmptyCell object at 0x10b094bb0>, <openpyxl.cell.read_only.EmptyCell object at 0x10b094bb0>, <openpyxl.cell.read_only.EmptyCell object at 0x10b094bb0>, <openpyxl.cell.read_only.EmptyCell object at 0x10b094bb0>, <openpyxl.cell.read_only.EmptyCell object at 0x10b094bb0>, <openpyxl.cell.read_only.ReadOnlyCell object at 0x10d2c3990>, <openpyxl.cell.read_only.ReadOnlyCell object at 0x10d2c3360>)\n",
      "(<openpyxl.cell.read_only.ReadOnlyCell object at 0x10d2c3518>, <openpyxl.cell.read_only.ReadOnlyCell object at 0x10d2c3570>, <openpyxl.cell.read_only.ReadOnlyCell object at 0x10d2c3258>, <openpyxl.cell.read_only.ReadOnlyCell object at 0x10d2c3830>, <openpyxl.cell.read_only.ReadOnlyCell object at 0x10d2c3888>, <openpyxl.cell.read_only.ReadOnlyCell object at 0x10d2c38e0>, <openpyxl.cell.read_only.EmptyCell object at 0x10b094bb0>, <openpyxl.cell.read_only.ReadOnlyCell object at 0x10d2c3938>)\n",
      "(<openpyxl.cell.read_only.ReadOnlyCell object at 0x10d2c3a40>, <openpyxl.cell.read_only.ReadOnlyCell object at 0x10d2c39e8>, <openpyxl.cell.read_only.ReadOnlyCell object at 0x10d2c3410>, <openpyxl.cell.read_only.ReadOnlyCell object at 0x10d2c3048>, <openpyxl.cell.read_only.ReadOnlyCell object at 0x10d2c30a0>, <openpyxl.cell.read_only.ReadOnlyCell object at 0x10d2c34c0>, <openpyxl.cell.read_only.EmptyCell object at 0x10b094bb0>, <openpyxl.cell.read_only.ReadOnlyCell object at 0x10d2990a0>)\n",
      "(<openpyxl.cell.read_only.ReadOnlyCell object at 0x10d2c3258>, <openpyxl.cell.read_only.ReadOnlyCell object at 0x10d2c3830>, <openpyxl.cell.read_only.ReadOnlyCell object at 0x10d2c3888>, <openpyxl.cell.read_only.ReadOnlyCell object at 0x10d2c38e0>, <openpyxl.cell.read_only.ReadOnlyCell object at 0x10d2c3938>, <openpyxl.cell.read_only.ReadOnlyCell object at 0x10d2c3990>, <openpyxl.cell.read_only.EmptyCell object at 0x10b094bb0>, <openpyxl.cell.read_only.ReadOnlyCell object at 0x10d2c3360>)\n",
      "(<openpyxl.cell.read_only.ReadOnlyCell object at 0x10d2c3410>, <openpyxl.cell.read_only.ReadOnlyCell object at 0x10d2c3048>, <openpyxl.cell.read_only.ReadOnlyCell object at 0x10d2c30a0>, <openpyxl.cell.read_only.ReadOnlyCell object at 0x10d2c34c0>, <openpyxl.cell.read_only.ReadOnlyCell object at 0x10d2c3518>, <openpyxl.cell.read_only.ReadOnlyCell object at 0x10d2c3570>, <openpyxl.cell.read_only.EmptyCell object at 0x10b094bb0>, <openpyxl.cell.read_only.ReadOnlyCell object at 0x10d2990a0>)\n",
      "(<openpyxl.cell.read_only.ReadOnlyCell object at 0x10d2c3888>, <openpyxl.cell.read_only.ReadOnlyCell object at 0x10d2c38e0>, <openpyxl.cell.read_only.ReadOnlyCell object at 0x10d2c3938>, <openpyxl.cell.read_only.ReadOnlyCell object at 0x10d2c3990>, <openpyxl.cell.read_only.ReadOnlyCell object at 0x10d2c3360>, <openpyxl.cell.read_only.ReadOnlyCell object at 0x10d2c3a40>, <openpyxl.cell.read_only.EmptyCell object at 0x10b094bb0>, <openpyxl.cell.read_only.EmptyCell object at 0x10b094bb0>)\n",
      "(<openpyxl.cell.read_only.ReadOnlyCell object at 0x10d2c30a0>, <openpyxl.cell.read_only.ReadOnlyCell object at 0x10d2c34c0>, <openpyxl.cell.read_only.ReadOnlyCell object at 0x10d2c3518>, <openpyxl.cell.read_only.ReadOnlyCell object at 0x10d2c3570>, <openpyxl.cell.read_only.ReadOnlyCell object at 0x10d2c3258>, <openpyxl.cell.read_only.ReadOnlyCell object at 0x10d2c3830>, <openpyxl.cell.read_only.EmptyCell object at 0x10b094bb0>, <openpyxl.cell.read_only.EmptyCell object at 0x10b094bb0>)\n",
      "(<openpyxl.cell.read_only.ReadOnlyCell object at 0x10d2c3938>, <openpyxl.cell.read_only.ReadOnlyCell object at 0x10d2c3990>, <openpyxl.cell.read_only.ReadOnlyCell object at 0x10d2c3360>, <openpyxl.cell.read_only.ReadOnlyCell object at 0x10d2c3a40>, <openpyxl.cell.read_only.ReadOnlyCell object at 0x10d2c3410>, <openpyxl.cell.read_only.ReadOnlyCell object at 0x10d2c3048>, <openpyxl.cell.read_only.EmptyCell object at 0x10b094bb0>, <openpyxl.cell.read_only.EmptyCell object at 0x10b094bb0>)\n",
      "(<openpyxl.cell.read_only.ReadOnlyCell object at 0x10d2c3518>, <openpyxl.cell.read_only.ReadOnlyCell object at 0x10d2c3570>, <openpyxl.cell.read_only.ReadOnlyCell object at 0x10d2c3258>, <openpyxl.cell.read_only.ReadOnlyCell object at 0x10d2c3830>, <openpyxl.cell.read_only.ReadOnlyCell object at 0x10d2c3888>, <openpyxl.cell.read_only.ReadOnlyCell object at 0x10d2c38e0>, <openpyxl.cell.read_only.EmptyCell object at 0x10b094bb0>, <openpyxl.cell.read_only.EmptyCell object at 0x10b094bb0>)\n",
      "(<openpyxl.cell.read_only.ReadOnlyCell object at 0x10d2c3360>, <openpyxl.cell.read_only.ReadOnlyCell object at 0x10d2c3a40>, <openpyxl.cell.read_only.ReadOnlyCell object at 0x10d2c3410>, <openpyxl.cell.read_only.ReadOnlyCell object at 0x10d2c3048>, <openpyxl.cell.read_only.ReadOnlyCell object at 0x10d2c30a0>, <openpyxl.cell.read_only.ReadOnlyCell object at 0x10d2c34c0>, <openpyxl.cell.read_only.EmptyCell object at 0x10b094bb0>, <openpyxl.cell.read_only.EmptyCell object at 0x10b094bb0>)\n",
      "(<openpyxl.cell.read_only.ReadOnlyCell object at 0x10d2c3258>, <openpyxl.cell.read_only.ReadOnlyCell object at 0x10d2c3830>, <openpyxl.cell.read_only.ReadOnlyCell object at 0x10d2c3888>, <openpyxl.cell.read_only.ReadOnlyCell object at 0x10d2c38e0>, <openpyxl.cell.read_only.ReadOnlyCell object at 0x10d2c3938>, <openpyxl.cell.read_only.ReadOnlyCell object at 0x10d2c3990>, <openpyxl.cell.read_only.EmptyCell object at 0x10b094bb0>, <openpyxl.cell.read_only.EmptyCell object at 0x10b094bb0>)\n",
      "(<openpyxl.cell.read_only.ReadOnlyCell object at 0x10d2c3410>, <openpyxl.cell.read_only.ReadOnlyCell object at 0x10d2c3048>, <openpyxl.cell.read_only.ReadOnlyCell object at 0x10d2c30a0>, <openpyxl.cell.read_only.ReadOnlyCell object at 0x10d2c34c0>, <openpyxl.cell.read_only.ReadOnlyCell object at 0x10d2c3518>, <openpyxl.cell.read_only.ReadOnlyCell object at 0x10d2c3570>, <openpyxl.cell.read_only.EmptyCell object at 0x10b094bb0>, <openpyxl.cell.read_only.EmptyCell object at 0x10b094bb0>)\n",
      "(<openpyxl.cell.read_only.ReadOnlyCell object at 0x10d2c3888>, <openpyxl.cell.read_only.ReadOnlyCell object at 0x10d2c38e0>, <openpyxl.cell.read_only.ReadOnlyCell object at 0x10d2c3938>, <openpyxl.cell.read_only.ReadOnlyCell object at 0x10d2c3990>, <openpyxl.cell.read_only.ReadOnlyCell object at 0x10d2c3360>, <openpyxl.cell.read_only.ReadOnlyCell object at 0x10d2c3a40>, <openpyxl.cell.read_only.EmptyCell object at 0x10b094bb0>, <openpyxl.cell.read_only.EmptyCell object at 0x10b094bb0>)\n",
      "(<openpyxl.cell.read_only.ReadOnlyCell object at 0x10d2c30a0>, <openpyxl.cell.read_only.ReadOnlyCell object at 0x10d2c34c0>, <openpyxl.cell.read_only.ReadOnlyCell object at 0x10d2c3518>, <openpyxl.cell.read_only.ReadOnlyCell object at 0x10d2c3570>, <openpyxl.cell.read_only.ReadOnlyCell object at 0x10d2c3258>, <openpyxl.cell.read_only.ReadOnlyCell object at 0x10d2c3830>, <openpyxl.cell.read_only.EmptyCell object at 0x10b094bb0>, <openpyxl.cell.read_only.EmptyCell object at 0x10b094bb0>)\n",
      "(<openpyxl.cell.read_only.ReadOnlyCell object at 0x10d2c3938>, <openpyxl.cell.read_only.ReadOnlyCell object at 0x10d2c3990>, <openpyxl.cell.read_only.ReadOnlyCell object at 0x10d2c3360>, <openpyxl.cell.read_only.ReadOnlyCell object at 0x10d2c3a40>, <openpyxl.cell.read_only.ReadOnlyCell object at 0x10d2c3410>, <openpyxl.cell.read_only.ReadOnlyCell object at 0x10d2c3048>, <openpyxl.cell.read_only.EmptyCell object at 0x10b094bb0>, <openpyxl.cell.read_only.EmptyCell object at 0x10b094bb0>)\n",
      "(<openpyxl.cell.read_only.EmptyCell object at 0x10b094bb0>, <openpyxl.cell.read_only.EmptyCell object at 0x10b094bb0>, <openpyxl.cell.read_only.EmptyCell object at 0x10b094bb0>, <openpyxl.cell.read_only.EmptyCell object at 0x10b094bb0>, <openpyxl.cell.read_only.EmptyCell object at 0x10b094bb0>, <openpyxl.cell.read_only.EmptyCell object at 0x10b094bb0>, <openpyxl.cell.read_only.EmptyCell object at 0x10b094bb0>, <openpyxl.cell.read_only.EmptyCell object at 0x10b094bb0>)\n",
      "(<openpyxl.cell.read_only.ReadOnlyCell object at 0x10d2c3360>, <openpyxl.cell.read_only.ReadOnlyCell object at 0x10d2c3a40>, <openpyxl.cell.read_only.ReadOnlyCell object at 0x10d2c3410>, <openpyxl.cell.read_only.ReadOnlyCell object at 0x10d2c3048>, <openpyxl.cell.read_only.ReadOnlyCell object at 0x10d2c30a0>, <openpyxl.cell.read_only.ReadOnlyCell object at 0x10d2c34c0>, <openpyxl.cell.read_only.EmptyCell object at 0x10b094bb0>, <openpyxl.cell.read_only.EmptyCell object at 0x10b094bb0>)\n",
      "(<openpyxl.cell.read_only.ReadOnlyCell object at 0x10d2c3518>, <openpyxl.cell.read_only.ReadOnlyCell object at 0x10d2c3570>, <openpyxl.cell.read_only.ReadOnlyCell object at 0x10d2c3258>, <openpyxl.cell.read_only.ReadOnlyCell object at 0x10d2c3830>, <openpyxl.cell.read_only.ReadOnlyCell object at 0x10d2c3888>, <openpyxl.cell.read_only.ReadOnlyCell object at 0x10d2c38e0>, <openpyxl.cell.read_only.EmptyCell object at 0x10b094bb0>, <openpyxl.cell.read_only.EmptyCell object at 0x10b094bb0>)\n",
      "(<openpyxl.cell.read_only.ReadOnlyCell object at 0x10d2c3410>, <openpyxl.cell.read_only.ReadOnlyCell object at 0x10d2c3048>, <openpyxl.cell.read_only.ReadOnlyCell object at 0x10d2c30a0>, <openpyxl.cell.read_only.ReadOnlyCell object at 0x10d2c34c0>, <openpyxl.cell.read_only.ReadOnlyCell object at 0x10d2c3938>, <openpyxl.cell.read_only.ReadOnlyCell object at 0x10d2c3990>, <openpyxl.cell.read_only.EmptyCell object at 0x10b094bb0>, <openpyxl.cell.read_only.EmptyCell object at 0x10b094bb0>)\n",
      "(<openpyxl.cell.read_only.ReadOnlyCell object at 0x10d2c3258>, <openpyxl.cell.read_only.ReadOnlyCell object at 0x10d2c3830>, <openpyxl.cell.read_only.ReadOnlyCell object at 0x10d2c3888>, <openpyxl.cell.read_only.ReadOnlyCell object at 0x10d2c38e0>, <openpyxl.cell.read_only.ReadOnlyCell object at 0x10d2c3360>, <openpyxl.cell.read_only.ReadOnlyCell object at 0x10d2c3a40>, <openpyxl.cell.read_only.EmptyCell object at 0x10b094bb0>, <openpyxl.cell.read_only.EmptyCell object at 0x10b094bb0>)\n",
      "(<openpyxl.cell.read_only.ReadOnlyCell object at 0x10d2c30a0>, <openpyxl.cell.read_only.ReadOnlyCell object at 0x10d2c34c0>, <openpyxl.cell.read_only.ReadOnlyCell object at 0x10d2c3938>, <openpyxl.cell.read_only.ReadOnlyCell object at 0x10d2c3990>, <openpyxl.cell.read_only.ReadOnlyCell object at 0x10d2c3518>, <openpyxl.cell.read_only.ReadOnlyCell object at 0x10d2c3570>, <openpyxl.cell.read_only.EmptyCell object at 0x10b094bb0>, <openpyxl.cell.read_only.EmptyCell object at 0x10b094bb0>)\n",
      "(<openpyxl.cell.read_only.ReadOnlyCell object at 0x10d2c3888>, <openpyxl.cell.read_only.ReadOnlyCell object at 0x10d2c38e0>, <openpyxl.cell.read_only.ReadOnlyCell object at 0x10d2c3360>, <openpyxl.cell.read_only.ReadOnlyCell object at 0x10d2c3a40>, <openpyxl.cell.read_only.ReadOnlyCell object at 0x10d2c3410>, <openpyxl.cell.read_only.ReadOnlyCell object at 0x10d2c3048>, <openpyxl.cell.read_only.EmptyCell object at 0x10b094bb0>, <openpyxl.cell.read_only.EmptyCell object at 0x10b094bb0>)\n",
      "(<openpyxl.cell.read_only.ReadOnlyCell object at 0x10d2c3938>, <openpyxl.cell.read_only.ReadOnlyCell object at 0x10d2c3990>, <openpyxl.cell.read_only.ReadOnlyCell object at 0x10d2c3518>, <openpyxl.cell.read_only.ReadOnlyCell object at 0x10d2c3570>, <openpyxl.cell.read_only.ReadOnlyCell object at 0x10d2c3258>, <openpyxl.cell.read_only.ReadOnlyCell object at 0x10d2c3830>, <openpyxl.cell.read_only.EmptyCell object at 0x10b094bb0>, <openpyxl.cell.read_only.EmptyCell object at 0x10b094bb0>)\n",
      "(<openpyxl.cell.read_only.ReadOnlyCell object at 0x10d2c3360>, <openpyxl.cell.read_only.ReadOnlyCell object at 0x10d2c3a40>, <openpyxl.cell.read_only.ReadOnlyCell object at 0x10d2c3410>, <openpyxl.cell.read_only.ReadOnlyCell object at 0x10d2c3048>, <openpyxl.cell.read_only.ReadOnlyCell object at 0x10d2c30a0>, <openpyxl.cell.read_only.ReadOnlyCell object at 0x10d2c34c0>, <openpyxl.cell.read_only.EmptyCell object at 0x10b094bb0>, <openpyxl.cell.read_only.EmptyCell object at 0x10b094bb0>)\n",
      "(<openpyxl.cell.read_only.ReadOnlyCell object at 0x10d2c3518>, <openpyxl.cell.read_only.ReadOnlyCell object at 0x10d2c3570>, <openpyxl.cell.read_only.ReadOnlyCell object at 0x10d2c3258>, <openpyxl.cell.read_only.ReadOnlyCell object at 0x10d2c3830>, <openpyxl.cell.read_only.ReadOnlyCell object at 0x10d2c3888>, <openpyxl.cell.read_only.ReadOnlyCell object at 0x10d2c38e0>, <openpyxl.cell.read_only.EmptyCell object at 0x10b094bb0>, <openpyxl.cell.read_only.EmptyCell object at 0x10b094bb0>)\n",
      "(<openpyxl.cell.read_only.ReadOnlyCell object at 0x10d2c3410>, <openpyxl.cell.read_only.ReadOnlyCell object at 0x10d2c3048>, <openpyxl.cell.read_only.ReadOnlyCell object at 0x10d2c30a0>, <openpyxl.cell.read_only.ReadOnlyCell object at 0x10d2c34c0>, <openpyxl.cell.read_only.ReadOnlyCell object at 0x10d2c3938>, <openpyxl.cell.read_only.ReadOnlyCell object at 0x10d2c3990>, <openpyxl.cell.read_only.EmptyCell object at 0x10b094bb0>, <openpyxl.cell.read_only.EmptyCell object at 0x10b094bb0>)\n",
      "(<openpyxl.cell.read_only.ReadOnlyCell object at 0x10d2c3258>, <openpyxl.cell.read_only.ReadOnlyCell object at 0x10d2c3830>, <openpyxl.cell.read_only.ReadOnlyCell object at 0x10d2c3888>, <openpyxl.cell.read_only.ReadOnlyCell object at 0x10d2c38e0>, <openpyxl.cell.read_only.ReadOnlyCell object at 0x10d2c3360>, <openpyxl.cell.read_only.ReadOnlyCell object at 0x10d2c3a40>, <openpyxl.cell.read_only.EmptyCell object at 0x10b094bb0>, <openpyxl.cell.read_only.EmptyCell object at 0x10b094bb0>)\n",
      "(<openpyxl.cell.read_only.ReadOnlyCell object at 0x10d2c30a0>, <openpyxl.cell.read_only.ReadOnlyCell object at 0x10d2c34c0>, <openpyxl.cell.read_only.ReadOnlyCell object at 0x10d2c3938>, <openpyxl.cell.read_only.ReadOnlyCell object at 0x10d2c3990>, <openpyxl.cell.read_only.ReadOnlyCell object at 0x10d2c3518>, <openpyxl.cell.read_only.ReadOnlyCell object at 0x10d2c3570>, <openpyxl.cell.read_only.EmptyCell object at 0x10b094bb0>, <openpyxl.cell.read_only.EmptyCell object at 0x10b094bb0>)\n",
      "(<openpyxl.cell.read_only.ReadOnlyCell object at 0x10d2c3888>, <openpyxl.cell.read_only.ReadOnlyCell object at 0x10d2c38e0>, <openpyxl.cell.read_only.ReadOnlyCell object at 0x10d2c3360>, <openpyxl.cell.read_only.ReadOnlyCell object at 0x10d2c3a40>, <openpyxl.cell.read_only.ReadOnlyCell object at 0x10d2c3410>, <openpyxl.cell.read_only.ReadOnlyCell object at 0x10d2c3048>, <openpyxl.cell.read_only.EmptyCell object at 0x10b094bb0>, <openpyxl.cell.read_only.EmptyCell object at 0x10b094bb0>)\n",
      "(<openpyxl.cell.read_only.ReadOnlyCell object at 0x10d2c3938>, <openpyxl.cell.read_only.ReadOnlyCell object at 0x10d2c3990>, <openpyxl.cell.read_only.ReadOnlyCell object at 0x10d2c3518>, <openpyxl.cell.read_only.ReadOnlyCell object at 0x10d2c3570>, <openpyxl.cell.read_only.ReadOnlyCell object at 0x10d2c3258>, <openpyxl.cell.read_only.ReadOnlyCell object at 0x10d2c3830>, <openpyxl.cell.read_only.EmptyCell object at 0x10b094bb0>, <openpyxl.cell.read_only.EmptyCell object at 0x10b094bb0>)\n",
      "(<openpyxl.cell.read_only.EmptyCell object at 0x10b094bb0>, <openpyxl.cell.read_only.EmptyCell object at 0x10b094bb0>, <openpyxl.cell.read_only.EmptyCell object at 0x10b094bb0>, <openpyxl.cell.read_only.EmptyCell object at 0x10b094bb0>, <openpyxl.cell.read_only.EmptyCell object at 0x10b094bb0>, <openpyxl.cell.read_only.EmptyCell object at 0x10b094bb0>, <openpyxl.cell.read_only.EmptyCell object at 0x10b094bb0>, <openpyxl.cell.read_only.EmptyCell object at 0x10b094bb0>)\n",
      "(<openpyxl.cell.read_only.ReadOnlyCell object at 0x10d2c3518>, <openpyxl.cell.read_only.ReadOnlyCell object at 0x10d2c3570>, <openpyxl.cell.read_only.ReadOnlyCell object at 0x10d2c3258>, <openpyxl.cell.read_only.ReadOnlyCell object at 0x10d2c3830>, <openpyxl.cell.read_only.ReadOnlyCell object at 0x10d2c3888>, <openpyxl.cell.read_only.ReadOnlyCell object at 0x10d2c38e0>, <openpyxl.cell.read_only.EmptyCell object at 0x10b094bb0>, <openpyxl.cell.read_only.EmptyCell object at 0x10b094bb0>)\n",
      "(<openpyxl.cell.read_only.ReadOnlyCell object at 0x10d2c3360>, <openpyxl.cell.read_only.ReadOnlyCell object at 0x10d2c3a40>, <openpyxl.cell.read_only.ReadOnlyCell object at 0x10d2c3410>, <openpyxl.cell.read_only.ReadOnlyCell object at 0x10d2c3048>, <openpyxl.cell.read_only.ReadOnlyCell object at 0x10d2c30a0>, <openpyxl.cell.read_only.ReadOnlyCell object at 0x10d2c34c0>, <openpyxl.cell.read_only.EmptyCell object at 0x10b094bb0>, <openpyxl.cell.read_only.EmptyCell object at 0x10b094bb0>)\n",
      "(<openpyxl.cell.read_only.ReadOnlyCell object at 0x10d2c3258>, <openpyxl.cell.read_only.ReadOnlyCell object at 0x10d2c3830>, <openpyxl.cell.read_only.ReadOnlyCell object at 0x10d2c3888>, <openpyxl.cell.read_only.ReadOnlyCell object at 0x10d2c38e0>, <openpyxl.cell.read_only.ReadOnlyCell object at 0x10d2c3938>, <openpyxl.cell.read_only.ReadOnlyCell object at 0x10d2c3990>, <openpyxl.cell.read_only.EmptyCell object at 0x10b094bb0>, <openpyxl.cell.read_only.EmptyCell object at 0x10b094bb0>)\n",
      "(<openpyxl.cell.read_only.ReadOnlyCell object at 0x10d2c3410>, <openpyxl.cell.read_only.ReadOnlyCell object at 0x10d2c3048>, <openpyxl.cell.read_only.ReadOnlyCell object at 0x10d2c30a0>, <openpyxl.cell.read_only.ReadOnlyCell object at 0x10d2c34c0>, <openpyxl.cell.read_only.ReadOnlyCell object at 0x10d2c3518>, <openpyxl.cell.read_only.ReadOnlyCell object at 0x10d2c3570>, <openpyxl.cell.read_only.EmptyCell object at 0x10b094bb0>, <openpyxl.cell.read_only.EmptyCell object at 0x10b094bb0>)\n",
      "(<openpyxl.cell.read_only.ReadOnlyCell object at 0x10d2c3888>, <openpyxl.cell.read_only.ReadOnlyCell object at 0x10d2c38e0>, <openpyxl.cell.read_only.ReadOnlyCell object at 0x10d2c3938>, <openpyxl.cell.read_only.ReadOnlyCell object at 0x10d2c3990>, <openpyxl.cell.read_only.ReadOnlyCell object at 0x10d2c3360>, <openpyxl.cell.read_only.ReadOnlyCell object at 0x10d2c3a40>, <openpyxl.cell.read_only.EmptyCell object at 0x10b094bb0>, <openpyxl.cell.read_only.EmptyCell object at 0x10b094bb0>)\n",
      "(<openpyxl.cell.read_only.ReadOnlyCell object at 0x10d2c30a0>, <openpyxl.cell.read_only.ReadOnlyCell object at 0x10d2c34c0>, <openpyxl.cell.read_only.ReadOnlyCell object at 0x10d2c3518>, <openpyxl.cell.read_only.ReadOnlyCell object at 0x10d2c3570>, <openpyxl.cell.read_only.ReadOnlyCell object at 0x10d2c3258>, <openpyxl.cell.read_only.ReadOnlyCell object at 0x10d2c3830>, <openpyxl.cell.read_only.EmptyCell object at 0x10b094bb0>, <openpyxl.cell.read_only.EmptyCell object at 0x10b094bb0>)\n",
      "(<openpyxl.cell.read_only.ReadOnlyCell object at 0x10d2c3938>, <openpyxl.cell.read_only.ReadOnlyCell object at 0x10d2c3990>, <openpyxl.cell.read_only.EmptyCell object at 0x10b094bb0>, <openpyxl.cell.read_only.EmptyCell object at 0x10b094bb0>, <openpyxl.cell.read_only.EmptyCell object at 0x10b094bb0>, <openpyxl.cell.read_only.ReadOnlyCell object at 0x10d2c3360>, <openpyxl.cell.read_only.EmptyCell object at 0x10b094bb0>, <openpyxl.cell.read_only.EmptyCell object at 0x10b094bb0>)\n",
      "(<openpyxl.cell.read_only.ReadOnlyCell object at 0x10d2c3518>, <openpyxl.cell.read_only.ReadOnlyCell object at 0x10d2c3570>, <openpyxl.cell.read_only.ReadOnlyCell object at 0x10d2c3258>, <openpyxl.cell.read_only.ReadOnlyCell object at 0x10d2c3830>, <openpyxl.cell.read_only.ReadOnlyCell object at 0x10d2c3888>, <openpyxl.cell.read_only.ReadOnlyCell object at 0x10d2c38e0>, <openpyxl.cell.read_only.EmptyCell object at 0x10b094bb0>, <openpyxl.cell.read_only.EmptyCell object at 0x10b094bb0>)\n",
      "(<openpyxl.cell.read_only.ReadOnlyCell object at 0x10d2c3360>, <openpyxl.cell.read_only.ReadOnlyCell object at 0x10d2c30a0>, <openpyxl.cell.read_only.ReadOnlyCell object at 0x10d2c34c0>, <openpyxl.cell.read_only.ReadOnlyCell object at 0x10d2c3a40>, <openpyxl.cell.read_only.ReadOnlyCell object at 0x10d2c3410>, <openpyxl.cell.read_only.ReadOnlyCell object at 0x10d2c3048>, <openpyxl.cell.read_only.EmptyCell object at 0x10b094bb0>, <openpyxl.cell.read_only.EmptyCell object at 0x10b094bb0>)\n",
      "(<openpyxl.cell.read_only.ReadOnlyCell object at 0x10d2c3258>, <openpyxl.cell.read_only.ReadOnlyCell object at 0x10d2c3830>, <openpyxl.cell.read_only.ReadOnlyCell object at 0x10d2c3888>, <openpyxl.cell.read_only.ReadOnlyCell object at 0x10d2c38e0>, <openpyxl.cell.read_only.ReadOnlyCell object at 0x10d2c3938>, <openpyxl.cell.read_only.ReadOnlyCell object at 0x10d2c3990>, <openpyxl.cell.read_only.EmptyCell object at 0x10b094bb0>, <openpyxl.cell.read_only.EmptyCell object at 0x10b094bb0>)\n",
      "(<openpyxl.cell.read_only.ReadOnlyCell object at 0x10d2c34c0>, <openpyxl.cell.read_only.ReadOnlyCell object at 0x10d2c3a40>, <openpyxl.cell.read_only.ReadOnlyCell object at 0x10d2c3410>, <openpyxl.cell.read_only.ReadOnlyCell object at 0x10d2c3048>, <openpyxl.cell.read_only.ReadOnlyCell object at 0x10d2c3518>, <openpyxl.cell.read_only.ReadOnlyCell object at 0x10d2c3570>, <openpyxl.cell.read_only.EmptyCell object at 0x10b094bb0>, <openpyxl.cell.read_only.EmptyCell object at 0x10b094bb0>)\n",
      "(<openpyxl.cell.read_only.ReadOnlyCell object at 0x10d2c3888>, <openpyxl.cell.read_only.ReadOnlyCell object at 0x10d2c38e0>, <openpyxl.cell.read_only.ReadOnlyCell object at 0x10d2c3938>, <openpyxl.cell.read_only.ReadOnlyCell object at 0x10d2c3990>, <openpyxl.cell.read_only.ReadOnlyCell object at 0x10d2c3360>, <openpyxl.cell.read_only.ReadOnlyCell object at 0x10d2c30a0>, <openpyxl.cell.read_only.EmptyCell object at 0x10b094bb0>, <openpyxl.cell.read_only.EmptyCell object at 0x10b094bb0>)\n",
      "(<openpyxl.cell.read_only.ReadOnlyCell object at 0x10d2c3410>, <openpyxl.cell.read_only.ReadOnlyCell object at 0x10d2c3048>, <openpyxl.cell.read_only.ReadOnlyCell object at 0x10d2c3518>, <openpyxl.cell.read_only.ReadOnlyCell object at 0x10d2c3570>, <openpyxl.cell.read_only.ReadOnlyCell object at 0x10d2c3258>, <openpyxl.cell.read_only.ReadOnlyCell object at 0x10d2c3830>, <openpyxl.cell.read_only.EmptyCell object at 0x10b094bb0>, <openpyxl.cell.read_only.EmptyCell object at 0x10b094bb0>)\n",
      "(<openpyxl.cell.read_only.ReadOnlyCell object at 0x10d2c3938>, <openpyxl.cell.read_only.ReadOnlyCell object at 0x10d2c3990>, <openpyxl.cell.read_only.ReadOnlyCell object at 0x10d2c3360>, <openpyxl.cell.read_only.ReadOnlyCell object at 0x10d2c30a0>, <openpyxl.cell.read_only.ReadOnlyCell object at 0x10d2c34c0>, <openpyxl.cell.read_only.ReadOnlyCell object at 0x10d2c3a40>, <openpyxl.cell.read_only.EmptyCell object at 0x10b094bb0>, <openpyxl.cell.read_only.EmptyCell object at 0x10b094bb0>)\n",
      "(<openpyxl.cell.read_only.ReadOnlyCell object at 0x10d2c3518>, <openpyxl.cell.read_only.ReadOnlyCell object at 0x10d2c3570>, <openpyxl.cell.read_only.ReadOnlyCell object at 0x10d2c3258>, <openpyxl.cell.read_only.ReadOnlyCell object at 0x10d2c3830>, <openpyxl.cell.read_only.ReadOnlyCell object at 0x10d2c3888>, <openpyxl.cell.read_only.ReadOnlyCell object at 0x10d2c38e0>, <openpyxl.cell.read_only.EmptyCell object at 0x10b094bb0>, <openpyxl.cell.read_only.EmptyCell object at 0x10b094bb0>)\n",
      "(<openpyxl.cell.read_only.ReadOnlyCell object at 0x10d2c3360>, <openpyxl.cell.read_only.ReadOnlyCell object at 0x10d2c30a0>, <openpyxl.cell.read_only.ReadOnlyCell object at 0x10d2c34c0>, <openpyxl.cell.read_only.ReadOnlyCell object at 0x10d2c3a40>, <openpyxl.cell.read_only.ReadOnlyCell object at 0x10d2c3410>, <openpyxl.cell.read_only.ReadOnlyCell object at 0x10d2c3048>, <openpyxl.cell.read_only.EmptyCell object at 0x10b094bb0>, <openpyxl.cell.read_only.EmptyCell object at 0x10b094bb0>)\n",
      "(<openpyxl.cell.read_only.ReadOnlyCell object at 0x10d2c3258>, <openpyxl.cell.read_only.ReadOnlyCell object at 0x10d2c3830>, <openpyxl.cell.read_only.ReadOnlyCell object at 0x10d2c3888>, <openpyxl.cell.read_only.ReadOnlyCell object at 0x10d2c38e0>, <openpyxl.cell.read_only.ReadOnlyCell object at 0x10d2c3938>, <openpyxl.cell.read_only.ReadOnlyCell object at 0x10d2c3990>, <openpyxl.cell.read_only.EmptyCell object at 0x10b094bb0>, <openpyxl.cell.read_only.EmptyCell object at 0x10b094bb0>)\n",
      "(<openpyxl.cell.read_only.ReadOnlyCell object at 0x10d2c34c0>, <openpyxl.cell.read_only.ReadOnlyCell object at 0x10d2c3a40>, <openpyxl.cell.read_only.ReadOnlyCell object at 0x10d2c3410>, <openpyxl.cell.read_only.ReadOnlyCell object at 0x10d2c3048>, <openpyxl.cell.read_only.ReadOnlyCell object at 0x10d2c3518>, <openpyxl.cell.read_only.ReadOnlyCell object at 0x10d2c3570>, <openpyxl.cell.read_only.EmptyCell object at 0x10b094bb0>, <openpyxl.cell.read_only.EmptyCell object at 0x10b094bb0>)\n",
      "(<openpyxl.cell.read_only.ReadOnlyCell object at 0x10d2c3888>, <openpyxl.cell.read_only.ReadOnlyCell object at 0x10d2c38e0>, <openpyxl.cell.read_only.ReadOnlyCell object at 0x10d2c3938>, <openpyxl.cell.read_only.ReadOnlyCell object at 0x10d2c3990>, <openpyxl.cell.read_only.ReadOnlyCell object at 0x10d2c3360>, <openpyxl.cell.read_only.ReadOnlyCell object at 0x10d2c30a0>, <openpyxl.cell.read_only.EmptyCell object at 0x10b094bb0>, <openpyxl.cell.read_only.EmptyCell object at 0x10b094bb0>)\n",
      "(<openpyxl.cell.read_only.ReadOnlyCell object at 0x10d2c3410>, <openpyxl.cell.read_only.ReadOnlyCell object at 0x10d2c3048>, <openpyxl.cell.read_only.ReadOnlyCell object at 0x10d2c3518>, <openpyxl.cell.read_only.ReadOnlyCell object at 0x10d2c3570>, <openpyxl.cell.read_only.ReadOnlyCell object at 0x10d2c3258>, <openpyxl.cell.read_only.ReadOnlyCell object at 0x10d2c3830>, <openpyxl.cell.read_only.EmptyCell object at 0x10b094bb0>, <openpyxl.cell.read_only.EmptyCell object at 0x10b094bb0>)\n",
      "(<openpyxl.cell.read_only.ReadOnlyCell object at 0x10d2c3938>, <openpyxl.cell.read_only.ReadOnlyCell object at 0x10d2c3990>, <openpyxl.cell.read_only.ReadOnlyCell object at 0x10d2c3360>, <openpyxl.cell.read_only.ReadOnlyCell object at 0x10d2c30a0>, <openpyxl.cell.read_only.ReadOnlyCell object at 0x10d2c34c0>, <openpyxl.cell.read_only.ReadOnlyCell object at 0x10d2c3a40>, <openpyxl.cell.read_only.EmptyCell object at 0x10b094bb0>, <openpyxl.cell.read_only.EmptyCell object at 0x10b094bb0>)\n",
      "(<openpyxl.cell.read_only.EmptyCell object at 0x10b094bb0>, <openpyxl.cell.read_only.EmptyCell object at 0x10b094bb0>, <openpyxl.cell.read_only.EmptyCell object at 0x10b094bb0>, <openpyxl.cell.read_only.EmptyCell object at 0x10b094bb0>, <openpyxl.cell.read_only.EmptyCell object at 0x10b094bb0>, <openpyxl.cell.read_only.EmptyCell object at 0x10b094bb0>, <openpyxl.cell.read_only.EmptyCell object at 0x10b094bb0>, <openpyxl.cell.read_only.EmptyCell object at 0x10b094bb0>)\n",
      "(<openpyxl.cell.read_only.ReadOnlyCell object at 0x10d2c3360>, <openpyxl.cell.read_only.ReadOnlyCell object at 0x10d2c30a0>, <openpyxl.cell.read_only.ReadOnlyCell object at 0x10d2c34c0>, <openpyxl.cell.read_only.ReadOnlyCell object at 0x10d2c3a40>, <openpyxl.cell.read_only.ReadOnlyCell object at 0x10d2c3410>, <openpyxl.cell.read_only.ReadOnlyCell object at 0x10d2c3048>, <openpyxl.cell.read_only.EmptyCell object at 0x10b094bb0>, <openpyxl.cell.read_only.EmptyCell object at 0x10b094bb0>)\n",
      "(<openpyxl.cell.read_only.ReadOnlyCell object at 0x10d2c3518>, <openpyxl.cell.read_only.ReadOnlyCell object at 0x10d2c3570>, <openpyxl.cell.read_only.ReadOnlyCell object at 0x10d2c3258>, <openpyxl.cell.read_only.ReadOnlyCell object at 0x10d2c3830>, <openpyxl.cell.read_only.ReadOnlyCell object at 0x10d2c3888>, <openpyxl.cell.read_only.ReadOnlyCell object at 0x10d2c38e0>, <openpyxl.cell.read_only.EmptyCell object at 0x10b094bb0>, <openpyxl.cell.read_only.EmptyCell object at 0x10b094bb0>)\n",
      "(<openpyxl.cell.read_only.ReadOnlyCell object at 0x10d2c34c0>, <openpyxl.cell.read_only.ReadOnlyCell object at 0x10d2c3a40>, <openpyxl.cell.read_only.ReadOnlyCell object at 0x10d2c3410>, <openpyxl.cell.read_only.ReadOnlyCell object at 0x10d2c3048>, <openpyxl.cell.read_only.ReadOnlyCell object at 0x10d2c3938>, <openpyxl.cell.read_only.ReadOnlyCell object at 0x10d2c3990>, <openpyxl.cell.read_only.EmptyCell object at 0x10b094bb0>, <openpyxl.cell.read_only.EmptyCell object at 0x10b094bb0>)\n",
      "(<openpyxl.cell.read_only.ReadOnlyCell object at 0x10d2c3258>, <openpyxl.cell.read_only.ReadOnlyCell object at 0x10d2c3830>, <openpyxl.cell.read_only.ReadOnlyCell object at 0x10d2c3888>, <openpyxl.cell.read_only.ReadOnlyCell object at 0x10d2c38e0>, <openpyxl.cell.read_only.ReadOnlyCell object at 0x10d2c3360>, <openpyxl.cell.read_only.ReadOnlyCell object at 0x10d2c30a0>, <openpyxl.cell.read_only.EmptyCell object at 0x10b094bb0>, <openpyxl.cell.read_only.EmptyCell object at 0x10b094bb0>)\n",
      "(<openpyxl.cell.read_only.ReadOnlyCell object at 0x10d2c3410>, <openpyxl.cell.read_only.ReadOnlyCell object at 0x10d2c3048>, <openpyxl.cell.read_only.ReadOnlyCell object at 0x10d2c3938>, <openpyxl.cell.read_only.ReadOnlyCell object at 0x10d2c3990>, <openpyxl.cell.read_only.ReadOnlyCell object at 0x10d2c3518>, <openpyxl.cell.read_only.ReadOnlyCell object at 0x10d2c3570>, <openpyxl.cell.read_only.EmptyCell object at 0x10b094bb0>, <openpyxl.cell.read_only.EmptyCell object at 0x10b094bb0>)\n",
      "(<openpyxl.cell.read_only.ReadOnlyCell object at 0x10d2c3888>, <openpyxl.cell.read_only.ReadOnlyCell object at 0x10d2c38e0>, <openpyxl.cell.read_only.ReadOnlyCell object at 0x10d2c3360>, <openpyxl.cell.read_only.ReadOnlyCell object at 0x10d2c30a0>, <openpyxl.cell.read_only.ReadOnlyCell object at 0x10d2c34c0>, <openpyxl.cell.read_only.ReadOnlyCell object at 0x10d2c3a40>, <openpyxl.cell.read_only.EmptyCell object at 0x10b094bb0>, <openpyxl.cell.read_only.EmptyCell object at 0x10b094bb0>)\n",
      "(<openpyxl.cell.read_only.ReadOnlyCell object at 0x10d2c3938>, <openpyxl.cell.read_only.ReadOnlyCell object at 0x10d2c3990>, <openpyxl.cell.read_only.ReadOnlyCell object at 0x10d2c3518>, <openpyxl.cell.read_only.ReadOnlyCell object at 0x10d2c3570>, <openpyxl.cell.read_only.ReadOnlyCell object at 0x10d2c3258>, <openpyxl.cell.read_only.ReadOnlyCell object at 0x10d2c3830>, <openpyxl.cell.read_only.EmptyCell object at 0x10b094bb0>, <openpyxl.cell.read_only.EmptyCell object at 0x10b094bb0>)\n",
      "(<openpyxl.cell.read_only.ReadOnlyCell object at 0x10d2c3360>, <openpyxl.cell.read_only.ReadOnlyCell object at 0x10d2c30a0>, <openpyxl.cell.read_only.ReadOnlyCell object at 0x10d2c34c0>, <openpyxl.cell.read_only.ReadOnlyCell object at 0x10d2c3a40>, <openpyxl.cell.read_only.ReadOnlyCell object at 0x10d2c3410>, <openpyxl.cell.read_only.ReadOnlyCell object at 0x10d2c3048>, <openpyxl.cell.read_only.EmptyCell object at 0x10b094bb0>, <openpyxl.cell.read_only.EmptyCell object at 0x10b094bb0>)\n",
      "(<openpyxl.cell.read_only.ReadOnlyCell object at 0x10d2c3518>, <openpyxl.cell.read_only.ReadOnlyCell object at 0x10d2c3570>, <openpyxl.cell.read_only.ReadOnlyCell object at 0x10d2c3258>, <openpyxl.cell.read_only.ReadOnlyCell object at 0x10d2c3830>, <openpyxl.cell.read_only.ReadOnlyCell object at 0x10d2c3888>, <openpyxl.cell.read_only.ReadOnlyCell object at 0x10d2c38e0>, <openpyxl.cell.read_only.EmptyCell object at 0x10b094bb0>, <openpyxl.cell.read_only.EmptyCell object at 0x10b094bb0>)\n",
      "(<openpyxl.cell.read_only.ReadOnlyCell object at 0x10d2c34c0>, <openpyxl.cell.read_only.ReadOnlyCell object at 0x10d2c3a40>, <openpyxl.cell.read_only.ReadOnlyCell object at 0x10d2c3410>, <openpyxl.cell.read_only.ReadOnlyCell object at 0x10d2c3048>, <openpyxl.cell.read_only.ReadOnlyCell object at 0x10d2c3938>, <openpyxl.cell.read_only.ReadOnlyCell object at 0x10d2c3990>, <openpyxl.cell.read_only.EmptyCell object at 0x10b094bb0>, <openpyxl.cell.read_only.EmptyCell object at 0x10b094bb0>)\n",
      "(<openpyxl.cell.read_only.ReadOnlyCell object at 0x10d2c3258>, <openpyxl.cell.read_only.ReadOnlyCell object at 0x10d2c3830>, <openpyxl.cell.read_only.ReadOnlyCell object at 0x10d2c3888>, <openpyxl.cell.read_only.ReadOnlyCell object at 0x10d2c38e0>, <openpyxl.cell.read_only.ReadOnlyCell object at 0x10d2c3360>, <openpyxl.cell.read_only.ReadOnlyCell object at 0x10d2c30a0>, <openpyxl.cell.read_only.EmptyCell object at 0x10b094bb0>, <openpyxl.cell.read_only.EmptyCell object at 0x10b094bb0>)\n",
      "(<openpyxl.cell.read_only.ReadOnlyCell object at 0x10d2c3410>, <openpyxl.cell.read_only.ReadOnlyCell object at 0x10d2c3048>, <openpyxl.cell.read_only.ReadOnlyCell object at 0x10d2c3938>, <openpyxl.cell.read_only.ReadOnlyCell object at 0x10d2c3990>, <openpyxl.cell.read_only.ReadOnlyCell object at 0x10d2c3518>, <openpyxl.cell.read_only.ReadOnlyCell object at 0x10d2c3570>, <openpyxl.cell.read_only.EmptyCell object at 0x10b094bb0>, <openpyxl.cell.read_only.EmptyCell object at 0x10b094bb0>)\n",
      "(<openpyxl.cell.read_only.ReadOnlyCell object at 0x10d2c3888>, <openpyxl.cell.read_only.ReadOnlyCell object at 0x10d2c38e0>, <openpyxl.cell.read_only.ReadOnlyCell object at 0x10d2c3360>, <openpyxl.cell.read_only.ReadOnlyCell object at 0x10d2c30a0>, <openpyxl.cell.read_only.ReadOnlyCell object at 0x10d2c34c0>, <openpyxl.cell.read_only.ReadOnlyCell object at 0x10d2c3a40>, <openpyxl.cell.read_only.EmptyCell object at 0x10b094bb0>, <openpyxl.cell.read_only.EmptyCell object at 0x10b094bb0>)\n",
      "(<openpyxl.cell.read_only.ReadOnlyCell object at 0x10d2c3938>, <openpyxl.cell.read_only.ReadOnlyCell object at 0x10d2c3990>, <openpyxl.cell.read_only.ReadOnlyCell object at 0x10d2c3518>, <openpyxl.cell.read_only.ReadOnlyCell object at 0x10d2c3570>, <openpyxl.cell.read_only.ReadOnlyCell object at 0x10d2c3258>, <openpyxl.cell.read_only.ReadOnlyCell object at 0x10d2c3830>, <openpyxl.cell.read_only.EmptyCell object at 0x10b094bb0>, <openpyxl.cell.read_only.EmptyCell object at 0x10b094bb0>)\n",
      "(<openpyxl.cell.read_only.EmptyCell object at 0x10b094bb0>, <openpyxl.cell.read_only.EmptyCell object at 0x10b094bb0>, <openpyxl.cell.read_only.EmptyCell object at 0x10b094bb0>, <openpyxl.cell.read_only.EmptyCell object at 0x10b094bb0>, <openpyxl.cell.read_only.EmptyCell object at 0x10b094bb0>, <openpyxl.cell.read_only.EmptyCell object at 0x10b094bb0>, <openpyxl.cell.read_only.EmptyCell object at 0x10b094bb0>, <openpyxl.cell.read_only.EmptyCell object at 0x10b094bb0>)\n",
      "(<openpyxl.cell.read_only.ReadOnlyCell object at 0x10d2c3518>, <openpyxl.cell.read_only.ReadOnlyCell object at 0x10d2c3570>, <openpyxl.cell.read_only.ReadOnlyCell object at 0x10d2c3258>, <openpyxl.cell.read_only.ReadOnlyCell object at 0x10d2c3830>, <openpyxl.cell.read_only.ReadOnlyCell object at 0x10d2c3888>, <openpyxl.cell.read_only.ReadOnlyCell object at 0x10d2c38e0>, <openpyxl.cell.read_only.EmptyCell object at 0x10b094bb0>, <openpyxl.cell.read_only.EmptyCell object at 0x10b094bb0>)\n",
      "(<openpyxl.cell.read_only.ReadOnlyCell object at 0x10d2c3360>, <openpyxl.cell.read_only.ReadOnlyCell object at 0x10d2c30a0>, <openpyxl.cell.read_only.ReadOnlyCell object at 0x10d2c34c0>, <openpyxl.cell.read_only.ReadOnlyCell object at 0x10d2c3a40>, <openpyxl.cell.read_only.ReadOnlyCell object at 0x10d2c3410>, <openpyxl.cell.read_only.ReadOnlyCell object at 0x10d2c3048>, <openpyxl.cell.read_only.EmptyCell object at 0x10b094bb0>, <openpyxl.cell.read_only.EmptyCell object at 0x10b094bb0>)\n",
      "(<openpyxl.cell.read_only.ReadOnlyCell object at 0x10d2c3258>, <openpyxl.cell.read_only.ReadOnlyCell object at 0x10d2c3830>, <openpyxl.cell.read_only.ReadOnlyCell object at 0x10d2c3888>, <openpyxl.cell.read_only.ReadOnlyCell object at 0x10d2c38e0>, <openpyxl.cell.read_only.ReadOnlyCell object at 0x10d2c3938>, <openpyxl.cell.read_only.ReadOnlyCell object at 0x10d2c3990>, <openpyxl.cell.read_only.EmptyCell object at 0x10b094bb0>, <openpyxl.cell.read_only.EmptyCell object at 0x10b094bb0>)\n",
      "(<openpyxl.cell.read_only.ReadOnlyCell object at 0x10d2c34c0>, <openpyxl.cell.read_only.ReadOnlyCell object at 0x10d2c3a40>, <openpyxl.cell.read_only.ReadOnlyCell object at 0x10d2c3410>, <openpyxl.cell.read_only.ReadOnlyCell object at 0x10d2c3048>, <openpyxl.cell.read_only.ReadOnlyCell object at 0x10d2c3518>, <openpyxl.cell.read_only.ReadOnlyCell object at 0x10d2c3570>, <openpyxl.cell.read_only.EmptyCell object at 0x10b094bb0>, <openpyxl.cell.read_only.EmptyCell object at 0x10b094bb0>)\n",
      "(<openpyxl.cell.read_only.ReadOnlyCell object at 0x10d2c3888>, <openpyxl.cell.read_only.ReadOnlyCell object at 0x10d2c38e0>, <openpyxl.cell.read_only.ReadOnlyCell object at 0x10d2c3938>, <openpyxl.cell.read_only.ReadOnlyCell object at 0x10d2c3990>, <openpyxl.cell.read_only.ReadOnlyCell object at 0x10d2c3360>, <openpyxl.cell.read_only.ReadOnlyCell object at 0x10d2c30a0>, <openpyxl.cell.read_only.EmptyCell object at 0x10b094bb0>, <openpyxl.cell.read_only.EmptyCell object at 0x10b094bb0>)\n",
      "(<openpyxl.cell.read_only.ReadOnlyCell object at 0x10d2c3410>, <openpyxl.cell.read_only.ReadOnlyCell object at 0x10d2c3048>, <openpyxl.cell.read_only.ReadOnlyCell object at 0x10d2c3518>, <openpyxl.cell.read_only.ReadOnlyCell object at 0x10d2c3570>, <openpyxl.cell.read_only.ReadOnlyCell object at 0x10d2c3258>, <openpyxl.cell.read_only.ReadOnlyCell object at 0x10d2c3830>, <openpyxl.cell.read_only.EmptyCell object at 0x10b094bb0>, <openpyxl.cell.read_only.EmptyCell object at 0x10b094bb0>)\n",
      "(<openpyxl.cell.read_only.ReadOnlyCell object at 0x10d2c3938>, <openpyxl.cell.read_only.ReadOnlyCell object at 0x10d2c3990>, <openpyxl.cell.read_only.ReadOnlyCell object at 0x10d2c3360>, <openpyxl.cell.read_only.ReadOnlyCell object at 0x10d2c30a0>, <openpyxl.cell.read_only.ReadOnlyCell object at 0x10d2c34c0>, <openpyxl.cell.read_only.ReadOnlyCell object at 0x10d2c3a40>, <openpyxl.cell.read_only.EmptyCell object at 0x10b094bb0>, <openpyxl.cell.read_only.EmptyCell object at 0x10b094bb0>)\n",
      "(<openpyxl.cell.read_only.ReadOnlyCell object at 0x10d2c3518>, <openpyxl.cell.read_only.ReadOnlyCell object at 0x10d2c3570>, <openpyxl.cell.read_only.ReadOnlyCell object at 0x10d2c3258>, <openpyxl.cell.read_only.ReadOnlyCell object at 0x10d2c3830>, <openpyxl.cell.read_only.ReadOnlyCell object at 0x10d2c3888>, <openpyxl.cell.read_only.ReadOnlyCell object at 0x10d2c38e0>, <openpyxl.cell.read_only.EmptyCell object at 0x10b094bb0>, <openpyxl.cell.read_only.EmptyCell object at 0x10b094bb0>)\n",
      "(<openpyxl.cell.read_only.ReadOnlyCell object at 0x10d2c3360>, <openpyxl.cell.read_only.ReadOnlyCell object at 0x10d2c30a0>, <openpyxl.cell.read_only.ReadOnlyCell object at 0x10d2c34c0>, <openpyxl.cell.read_only.ReadOnlyCell object at 0x10d2c3a40>, <openpyxl.cell.read_only.ReadOnlyCell object at 0x10d2c3410>, <openpyxl.cell.read_only.ReadOnlyCell object at 0x10d2c3048>, <openpyxl.cell.read_only.EmptyCell object at 0x10b094bb0>, <openpyxl.cell.read_only.EmptyCell object at 0x10b094bb0>)\n",
      "(<openpyxl.cell.read_only.ReadOnlyCell object at 0x10d2c3258>, <openpyxl.cell.read_only.ReadOnlyCell object at 0x10d2c3830>, <openpyxl.cell.read_only.ReadOnlyCell object at 0x10d2c3888>, <openpyxl.cell.read_only.ReadOnlyCell object at 0x10d2c38e0>, <openpyxl.cell.read_only.ReadOnlyCell object at 0x10d2c3938>, <openpyxl.cell.read_only.ReadOnlyCell object at 0x10d2c3990>, <openpyxl.cell.read_only.EmptyCell object at 0x10b094bb0>, <openpyxl.cell.read_only.EmptyCell object at 0x10b094bb0>)\n",
      "(<openpyxl.cell.read_only.ReadOnlyCell object at 0x10d2c34c0>, <openpyxl.cell.read_only.ReadOnlyCell object at 0x10d2c3a40>, <openpyxl.cell.read_only.ReadOnlyCell object at 0x10d2c3410>, <openpyxl.cell.read_only.ReadOnlyCell object at 0x10d2c3048>, <openpyxl.cell.read_only.ReadOnlyCell object at 0x10d2c3518>, <openpyxl.cell.read_only.ReadOnlyCell object at 0x10d2c3570>, <openpyxl.cell.read_only.EmptyCell object at 0x10b094bb0>, <openpyxl.cell.read_only.EmptyCell object at 0x10b094bb0>)\n",
      "(<openpyxl.cell.read_only.ReadOnlyCell object at 0x10d2c3888>, <openpyxl.cell.read_only.ReadOnlyCell object at 0x10d2c38e0>, <openpyxl.cell.read_only.ReadOnlyCell object at 0x10d2c3938>, <openpyxl.cell.read_only.ReadOnlyCell object at 0x10d2c3990>, <openpyxl.cell.read_only.ReadOnlyCell object at 0x10d2c3360>, <openpyxl.cell.read_only.ReadOnlyCell object at 0x10d2c30a0>, <openpyxl.cell.read_only.EmptyCell object at 0x10b094bb0>, <openpyxl.cell.read_only.EmptyCell object at 0x10b094bb0>)\n",
      "(<openpyxl.cell.read_only.ReadOnlyCell object at 0x10d2c3410>, <openpyxl.cell.read_only.ReadOnlyCell object at 0x10d2c3048>, <openpyxl.cell.read_only.ReadOnlyCell object at 0x10d2c3518>, <openpyxl.cell.read_only.ReadOnlyCell object at 0x10d2c3570>, <openpyxl.cell.read_only.ReadOnlyCell object at 0x10d2c3258>, <openpyxl.cell.read_only.ReadOnlyCell object at 0x10d2c3830>, <openpyxl.cell.read_only.EmptyCell object at 0x10b094bb0>, <openpyxl.cell.read_only.EmptyCell object at 0x10b094bb0>)\n",
      "(<openpyxl.cell.read_only.ReadOnlyCell object at 0x10d2c3938>, <openpyxl.cell.read_only.ReadOnlyCell object at 0x10d2c3990>, <openpyxl.cell.read_only.ReadOnlyCell object at 0x10d2c3360>, <openpyxl.cell.read_only.ReadOnlyCell object at 0x10d2c30a0>, <openpyxl.cell.read_only.ReadOnlyCell object at 0x10d2c34c0>, <openpyxl.cell.read_only.ReadOnlyCell object at 0x10d2c3a40>, <openpyxl.cell.read_only.EmptyCell object at 0x10b094bb0>, <openpyxl.cell.read_only.EmptyCell object at 0x10b094bb0>)\n",
      "(<openpyxl.cell.read_only.ReadOnlyCell object at 0x10d2c3518>, <openpyxl.cell.read_only.ReadOnlyCell object at 0x10d2c3570>, <openpyxl.cell.read_only.ReadOnlyCell object at 0x10d2c3258>, <openpyxl.cell.read_only.ReadOnlyCell object at 0x10d2c3830>, <openpyxl.cell.read_only.ReadOnlyCell object at 0x10d2c3888>, <openpyxl.cell.read_only.ReadOnlyCell object at 0x10d2c38e0>, <openpyxl.cell.read_only.EmptyCell object at 0x10b094bb0>, <openpyxl.cell.read_only.EmptyCell object at 0x10b094bb0>)\n",
      "(<openpyxl.cell.read_only.ReadOnlyCell object at 0x10d2c3360>, <openpyxl.cell.read_only.ReadOnlyCell object at 0x10d2c30a0>, <openpyxl.cell.read_only.ReadOnlyCell object at 0x10d2c34c0>, <openpyxl.cell.read_only.ReadOnlyCell object at 0x10d2c3a40>, <openpyxl.cell.read_only.ReadOnlyCell object at 0x10d2c3410>, <openpyxl.cell.read_only.ReadOnlyCell object at 0x10d2c3048>, <openpyxl.cell.read_only.EmptyCell object at 0x10b094bb0>, <openpyxl.cell.read_only.EmptyCell object at 0x10b094bb0>)\n",
      "(<openpyxl.cell.read_only.ReadOnlyCell object at 0x10d2c3258>, <openpyxl.cell.read_only.ReadOnlyCell object at 0x10d2c3830>, <openpyxl.cell.read_only.ReadOnlyCell object at 0x10d2c3888>, <openpyxl.cell.read_only.ReadOnlyCell object at 0x10d2c38e0>, <openpyxl.cell.read_only.ReadOnlyCell object at 0x10d2c3938>, <openpyxl.cell.read_only.ReadOnlyCell object at 0x10d2c3990>, <openpyxl.cell.read_only.EmptyCell object at 0x10b094bb0>, <openpyxl.cell.read_only.EmptyCell object at 0x10b094bb0>)\n",
      "(<openpyxl.cell.read_only.ReadOnlyCell object at 0x10d2c34c0>, <openpyxl.cell.read_only.ReadOnlyCell object at 0x10d2c3a40>, <openpyxl.cell.read_only.ReadOnlyCell object at 0x10d2c3410>, <openpyxl.cell.read_only.ReadOnlyCell object at 0x10d2c3048>, <openpyxl.cell.read_only.ReadOnlyCell object at 0x10d2c3518>, <openpyxl.cell.read_only.ReadOnlyCell object at 0x10d2c3570>, <openpyxl.cell.read_only.EmptyCell object at 0x10b094bb0>, <openpyxl.cell.read_only.EmptyCell object at 0x10b094bb0>)\n",
      "(<openpyxl.cell.read_only.ReadOnlyCell object at 0x10d2c3888>, <openpyxl.cell.read_only.ReadOnlyCell object at 0x10d2c38e0>, <openpyxl.cell.read_only.ReadOnlyCell object at 0x10d2c3938>, <openpyxl.cell.read_only.ReadOnlyCell object at 0x10d2c3990>, <openpyxl.cell.read_only.ReadOnlyCell object at 0x10d2c3360>, <openpyxl.cell.read_only.ReadOnlyCell object at 0x10d2c30a0>, <openpyxl.cell.read_only.EmptyCell object at 0x10b094bb0>, <openpyxl.cell.read_only.EmptyCell object at 0x10b094bb0>)\n",
      "(<openpyxl.cell.read_only.ReadOnlyCell object at 0x10d2c3410>, <openpyxl.cell.read_only.ReadOnlyCell object at 0x10d2c3048>, <openpyxl.cell.read_only.ReadOnlyCell object at 0x10d2c3518>, <openpyxl.cell.read_only.ReadOnlyCell object at 0x10d2c3570>, <openpyxl.cell.read_only.ReadOnlyCell object at 0x10d2c3258>, <openpyxl.cell.read_only.ReadOnlyCell object at 0x10d2c3830>, <openpyxl.cell.read_only.EmptyCell object at 0x10b094bb0>, <openpyxl.cell.read_only.EmptyCell object at 0x10b094bb0>)\n",
      "(<openpyxl.cell.read_only.ReadOnlyCell object at 0x10d2c3938>, <openpyxl.cell.read_only.ReadOnlyCell object at 0x10d2c3990>, <openpyxl.cell.read_only.ReadOnlyCell object at 0x10d2c3360>, <openpyxl.cell.read_only.ReadOnlyCell object at 0x10d2c30a0>, <openpyxl.cell.read_only.ReadOnlyCell object at 0x10d2c34c0>, <openpyxl.cell.read_only.ReadOnlyCell object at 0x10d2c3a40>, <openpyxl.cell.read_only.EmptyCell object at 0x10b094bb0>, <openpyxl.cell.read_only.EmptyCell object at 0x10b094bb0>)\n",
      "(<openpyxl.cell.read_only.ReadOnlyCell object at 0x10d2c3518>, <openpyxl.cell.read_only.ReadOnlyCell object at 0x10d2c3570>, <openpyxl.cell.read_only.ReadOnlyCell object at 0x10d2c3258>, <openpyxl.cell.read_only.ReadOnlyCell object at 0x10d2c3830>, <openpyxl.cell.read_only.ReadOnlyCell object at 0x10d2c3888>, <openpyxl.cell.read_only.ReadOnlyCell object at 0x10d2c38e0>, <openpyxl.cell.read_only.EmptyCell object at 0x10b094bb0>, <openpyxl.cell.read_only.EmptyCell object at 0x10b094bb0>)\n",
      "(<openpyxl.cell.read_only.ReadOnlyCell object at 0x10d2c3360>, <openpyxl.cell.read_only.ReadOnlyCell object at 0x10d2c30a0>, <openpyxl.cell.read_only.EmptyCell object at 0x10b094bb0>, <openpyxl.cell.read_only.EmptyCell object at 0x10b094bb0>, <openpyxl.cell.read_only.EmptyCell object at 0x10b094bb0>, <openpyxl.cell.read_only.ReadOnlyCell object at 0x10d2c34c0>, <openpyxl.cell.read_only.EmptyCell object at 0x10b094bb0>, <openpyxl.cell.read_only.EmptyCell object at 0x10b094bb0>)\n",
      "(<openpyxl.cell.read_only.ReadOnlyCell object at 0x10d2c3258>, <openpyxl.cell.read_only.ReadOnlyCell object at 0x10d2c3830>, <openpyxl.cell.read_only.ReadOnlyCell object at 0x10d2c3888>, <openpyxl.cell.read_only.ReadOnlyCell object at 0x10d2c38e0>, <openpyxl.cell.read_only.ReadOnlyCell object at 0x10d2c3938>, <openpyxl.cell.read_only.ReadOnlyCell object at 0x10d2c3990>, <openpyxl.cell.read_only.EmptyCell object at 0x10b094bb0>, <openpyxl.cell.read_only.EmptyCell object at 0x10b094bb0>)\n",
      "(<openpyxl.cell.read_only.ReadOnlyCell object at 0x10d2c34c0>, <openpyxl.cell.read_only.ReadOnlyCell object at 0x10d2c3518>, <openpyxl.cell.read_only.ReadOnlyCell object at 0x10d2c3570>, <openpyxl.cell.read_only.ReadOnlyCell object at 0x10d2c3a40>, <openpyxl.cell.read_only.ReadOnlyCell object at 0x10d2c3410>, <openpyxl.cell.read_only.ReadOnlyCell object at 0x10d2c3048>, <openpyxl.cell.read_only.EmptyCell object at 0x10b094bb0>, <openpyxl.cell.read_only.EmptyCell object at 0x10b094bb0>)\n",
      "(<openpyxl.cell.read_only.ReadOnlyCell object at 0x10d2c3888>, <openpyxl.cell.read_only.ReadOnlyCell object at 0x10d2c38e0>, <openpyxl.cell.read_only.ReadOnlyCell object at 0x10d2c3938>, <openpyxl.cell.read_only.ReadOnlyCell object at 0x10d2c3990>, <openpyxl.cell.read_only.ReadOnlyCell object at 0x10d2c3360>, <openpyxl.cell.read_only.ReadOnlyCell object at 0x10d2c30a0>, <openpyxl.cell.read_only.EmptyCell object at 0x10b094bb0>, <openpyxl.cell.read_only.EmptyCell object at 0x10b094bb0>)\n",
      "(<openpyxl.cell.read_only.ReadOnlyCell object at 0x10d2c3570>, <openpyxl.cell.read_only.ReadOnlyCell object at 0x10d2c3a40>, <openpyxl.cell.read_only.ReadOnlyCell object at 0x10d2c3410>, <openpyxl.cell.read_only.ReadOnlyCell object at 0x10d2c3048>, <openpyxl.cell.read_only.ReadOnlyCell object at 0x10d2c3258>, <openpyxl.cell.read_only.ReadOnlyCell object at 0x10d2c3830>, <openpyxl.cell.read_only.EmptyCell object at 0x10b094bb0>, <openpyxl.cell.read_only.EmptyCell object at 0x10b094bb0>)\n",
      "(<openpyxl.cell.read_only.ReadOnlyCell object at 0x10d2c3938>, <openpyxl.cell.read_only.ReadOnlyCell object at 0x10d2c3990>, <openpyxl.cell.read_only.ReadOnlyCell object at 0x10d2c3360>, <openpyxl.cell.read_only.ReadOnlyCell object at 0x10d2c30a0>, <openpyxl.cell.read_only.ReadOnlyCell object at 0x10d2c34c0>, <openpyxl.cell.read_only.ReadOnlyCell object at 0x10d2c3518>, <openpyxl.cell.read_only.EmptyCell object at 0x10b094bb0>, <openpyxl.cell.read_only.EmptyCell object at 0x10b094bb0>)\n",
      "(<openpyxl.cell.read_only.ReadOnlyCell object at 0x10d2c3410>, <openpyxl.cell.read_only.ReadOnlyCell object at 0x10d2c3048>, <openpyxl.cell.read_only.ReadOnlyCell object at 0x10d2c3258>, <openpyxl.cell.read_only.ReadOnlyCell object at 0x10d2c3830>, <openpyxl.cell.read_only.ReadOnlyCell object at 0x10d2c3888>, <openpyxl.cell.read_only.ReadOnlyCell object at 0x10d2c38e0>, <openpyxl.cell.read_only.EmptyCell object at 0x10b094bb0>, <openpyxl.cell.read_only.EmptyCell object at 0x10b094bb0>)\n",
      "(<openpyxl.cell.read_only.ReadOnlyCell object at 0x10d2c3360>, <openpyxl.cell.read_only.ReadOnlyCell object at 0x10d2c30a0>, <openpyxl.cell.read_only.ReadOnlyCell object at 0x10d2c34c0>, <openpyxl.cell.read_only.ReadOnlyCell object at 0x10d2c3518>, <openpyxl.cell.read_only.ReadOnlyCell object at 0x10d2c3570>, <openpyxl.cell.read_only.ReadOnlyCell object at 0x10d2c3a40>, <openpyxl.cell.read_only.EmptyCell object at 0x10b094bb0>, <openpyxl.cell.read_only.EmptyCell object at 0x10b094bb0>)\n",
      "(<openpyxl.cell.read_only.ReadOnlyCell object at 0x10d2c3258>, <openpyxl.cell.read_only.ReadOnlyCell object at 0x10d2c3830>, <openpyxl.cell.read_only.ReadOnlyCell object at 0x10d2c3888>, <openpyxl.cell.read_only.ReadOnlyCell object at 0x10d2c38e0>, <openpyxl.cell.read_only.ReadOnlyCell object at 0x10d2c3938>, <openpyxl.cell.read_only.ReadOnlyCell object at 0x10d2c3990>, <openpyxl.cell.read_only.EmptyCell object at 0x10b094bb0>, <openpyxl.cell.read_only.EmptyCell object at 0x10b094bb0>)\n",
      "(<openpyxl.cell.read_only.EmptyCell object at 0x10b094bb0>, <openpyxl.cell.read_only.EmptyCell object at 0x10b094bb0>, <openpyxl.cell.read_only.EmptyCell object at 0x10b094bb0>, <openpyxl.cell.read_only.EmptyCell object at 0x10b094bb0>, <openpyxl.cell.read_only.EmptyCell object at 0x10b094bb0>, <openpyxl.cell.read_only.EmptyCell object at 0x10b094bb0>, <openpyxl.cell.read_only.EmptyCell object at 0x10b094bb0>, <openpyxl.cell.read_only.EmptyCell object at 0x10b094bb0>)\n",
      "(<openpyxl.cell.read_only.ReadOnlyCell object at 0x10d2c3888>, <openpyxl.cell.read_only.ReadOnlyCell object at 0x10d2c38e0>, <openpyxl.cell.read_only.ReadOnlyCell object at 0x10d2c3938>, <openpyxl.cell.read_only.ReadOnlyCell object at 0x10d2c3990>, <openpyxl.cell.read_only.ReadOnlyCell object at 0x10d2c3360>, <openpyxl.cell.read_only.ReadOnlyCell object at 0x10d2c30a0>, <openpyxl.cell.read_only.EmptyCell object at 0x10b094bb0>, <openpyxl.cell.read_only.EmptyCell object at 0x10b094bb0>)\n",
      "(<openpyxl.cell.read_only.ReadOnlyCell object at 0x10d2c34c0>, <openpyxl.cell.read_only.ReadOnlyCell object at 0x10d2c3518>, <openpyxl.cell.read_only.ReadOnlyCell object at 0x10d2c3570>, <openpyxl.cell.read_only.ReadOnlyCell object at 0x10d2c3a40>, <openpyxl.cell.read_only.ReadOnlyCell object at 0x10d2c3410>, <openpyxl.cell.read_only.ReadOnlyCell object at 0x10d2c3048>, <openpyxl.cell.read_only.EmptyCell object at 0x10b094bb0>, <openpyxl.cell.read_only.EmptyCell object at 0x10b094bb0>)\n",
      "(<openpyxl.cell.read_only.ReadOnlyCell object at 0x10d2c3938>, <openpyxl.cell.read_only.ReadOnlyCell object at 0x10d2c3990>, <openpyxl.cell.read_only.ReadOnlyCell object at 0x10d2c3360>, <openpyxl.cell.read_only.ReadOnlyCell object at 0x10d2c30a0>, <openpyxl.cell.read_only.ReadOnlyCell object at 0x10d2c3258>, <openpyxl.cell.read_only.ReadOnlyCell object at 0x10d2c3830>, <openpyxl.cell.read_only.EmptyCell object at 0x10b094bb0>, <openpyxl.cell.read_only.EmptyCell object at 0x10b094bb0>)\n",
      "(<openpyxl.cell.read_only.ReadOnlyCell object at 0x10d2c3a40>, <openpyxl.cell.read_only.ReadOnlyCell object at 0x10d2c3410>, <openpyxl.cell.read_only.ReadOnlyCell object at 0x10d2c3048>, <openpyxl.cell.read_only.ReadOnlyCell object at 0x10d2c3888>, <openpyxl.cell.read_only.ReadOnlyCell object at 0x10d2c38e0>, <openpyxl.cell.read_only.ReadOnlyCell object at 0x10d2c39e8>, <openpyxl.cell.read_only.EmptyCell object at 0x10b094bb0>, <openpyxl.cell.read_only.EmptyCell object at 0x10b094bb0>)\n",
      "(<openpyxl.cell.read_only.ReadOnlyCell object at 0x10d2c3360>, <openpyxl.cell.read_only.ReadOnlyCell object at 0x10d2c30a0>, <openpyxl.cell.read_only.ReadOnlyCell object at 0x10d2c3258>, <openpyxl.cell.read_only.ReadOnlyCell object at 0x10d2c3830>, <openpyxl.cell.read_only.ReadOnlyCell object at 0x10d2c3518>, <openpyxl.cell.read_only.ReadOnlyCell object at 0x10d2c3570>, <openpyxl.cell.read_only.EmptyCell object at 0x10b094bb0>, <openpyxl.cell.read_only.EmptyCell object at 0x10b094bb0>)\n",
      "(<openpyxl.cell.read_only.ReadOnlyCell object at 0x10d2c3048>, <openpyxl.cell.read_only.ReadOnlyCell object at 0x10d2c3888>, <openpyxl.cell.read_only.ReadOnlyCell object at 0x10d2c38e0>, <openpyxl.cell.read_only.ReadOnlyCell object at 0x10d2c39e8>, <openpyxl.cell.read_only.ReadOnlyCell object at 0x10d2c3938>, <openpyxl.cell.read_only.ReadOnlyCell object at 0x10d2c3990>, <openpyxl.cell.read_only.EmptyCell object at 0x10b094bb0>, <openpyxl.cell.read_only.EmptyCell object at 0x10b094bb0>)\n",
      "(<openpyxl.cell.read_only.ReadOnlyCell object at 0x10d2c3258>, <openpyxl.cell.read_only.ReadOnlyCell object at 0x10d2c3830>, <openpyxl.cell.read_only.ReadOnlyCell object at 0x10d2c3518>, <openpyxl.cell.read_only.ReadOnlyCell object at 0x10d2c3570>, <openpyxl.cell.read_only.ReadOnlyCell object at 0x10d2c3a40>, <openpyxl.cell.read_only.ReadOnlyCell object at 0x10d2c3410>, <openpyxl.cell.read_only.EmptyCell object at 0x10b094bb0>, <openpyxl.cell.read_only.EmptyCell object at 0x10b094bb0>)\n",
      "(<openpyxl.cell.read_only.ReadOnlyCell object at 0x10d2c38e0>, <openpyxl.cell.read_only.ReadOnlyCell object at 0x10d2c39e8>, <openpyxl.cell.read_only.ReadOnlyCell object at 0x10d2c3938>, <openpyxl.cell.read_only.ReadOnlyCell object at 0x10d2c3990>, <openpyxl.cell.read_only.ReadOnlyCell object at 0x10d2c3360>, <openpyxl.cell.read_only.ReadOnlyCell object at 0x10d2c30a0>, <openpyxl.cell.read_only.EmptyCell object at 0x10b094bb0>, <openpyxl.cell.read_only.EmptyCell object at 0x10b094bb0>)\n",
      "(<openpyxl.cell.read_only.EmptyCell object at 0x10b094bb0>, <openpyxl.cell.read_only.EmptyCell object at 0x10b094bb0>, <openpyxl.cell.read_only.EmptyCell object at 0x10b094bb0>, <openpyxl.cell.read_only.EmptyCell object at 0x10b094bb0>, <openpyxl.cell.read_only.EmptyCell object at 0x10b094bb0>, <openpyxl.cell.read_only.EmptyCell object at 0x10b094bb0>, <openpyxl.cell.read_only.EmptyCell object at 0x10b094bb0>, <openpyxl.cell.read_only.EmptyCell object at 0x10b094bb0>)\n",
      "(<openpyxl.cell.read_only.ReadOnlyCell object at 0x10d2c3938>, <openpyxl.cell.read_only.ReadOnlyCell object at 0x10d2c3990>, <openpyxl.cell.read_only.ReadOnlyCell object at 0x10d2c3360>, <openpyxl.cell.read_only.ReadOnlyCell object at 0x10d2c30a0>, <openpyxl.cell.read_only.ReadOnlyCell object at 0x10d2c3258>, <openpyxl.cell.read_only.ReadOnlyCell object at 0x10d2c3830>, <openpyxl.cell.read_only.EmptyCell object at 0x10b094bb0>, <openpyxl.cell.read_only.EmptyCell object at 0x10b094bb0>)\n",
      "(<openpyxl.cell.read_only.ReadOnlyCell object at 0x10d2c3518>, <openpyxl.cell.read_only.ReadOnlyCell object at 0x10d2c3570>, <openpyxl.cell.read_only.ReadOnlyCell object at 0x10d2c3a40>, <openpyxl.cell.read_only.ReadOnlyCell object at 0x10d2c3410>, <openpyxl.cell.read_only.ReadOnlyCell object at 0x10d2c3048>, <openpyxl.cell.read_only.ReadOnlyCell object at 0x10d2c3888>, <openpyxl.cell.read_only.EmptyCell object at 0x10b094bb0>, <openpyxl.cell.read_only.EmptyCell object at 0x10b094bb0>)\n",
      "(<openpyxl.cell.read_only.ReadOnlyCell object at 0x10d2c3360>, <openpyxl.cell.read_only.ReadOnlyCell object at 0x10d2c30a0>, <openpyxl.cell.read_only.ReadOnlyCell object at 0x10d2c3258>, <openpyxl.cell.read_only.ReadOnlyCell object at 0x10d2c3830>, <openpyxl.cell.read_only.ReadOnlyCell object at 0x10d2c38e0>, <openpyxl.cell.read_only.ReadOnlyCell object at 0x10d2c39e8>, <openpyxl.cell.read_only.EmptyCell object at 0x10b094bb0>, <openpyxl.cell.read_only.EmptyCell object at 0x10b094bb0>)\n",
      "(<openpyxl.cell.read_only.ReadOnlyCell object at 0x10d2c3a40>, <openpyxl.cell.read_only.ReadOnlyCell object at 0x10d2c3410>, <openpyxl.cell.read_only.ReadOnlyCell object at 0x10d2c3048>, <openpyxl.cell.read_only.ReadOnlyCell object at 0x10d2c3888>, <openpyxl.cell.read_only.ReadOnlyCell object at 0x10d2c3938>, <openpyxl.cell.read_only.ReadOnlyCell object at 0x10d2c3990>, <openpyxl.cell.read_only.EmptyCell object at 0x10b094bb0>, <openpyxl.cell.read_only.EmptyCell object at 0x10b094bb0>)\n",
      "(<openpyxl.cell.read_only.ReadOnlyCell object at 0x10d2c3258>, <openpyxl.cell.read_only.ReadOnlyCell object at 0x10d2c3830>, <openpyxl.cell.read_only.ReadOnlyCell object at 0x10d2c38e0>, <openpyxl.cell.read_only.ReadOnlyCell object at 0x10d2c39e8>, <openpyxl.cell.read_only.ReadOnlyCell object at 0x10d2c3518>, <openpyxl.cell.read_only.ReadOnlyCell object at 0x10d2c3570>, <openpyxl.cell.read_only.EmptyCell object at 0x10b094bb0>, <openpyxl.cell.read_only.EmptyCell object at 0x10b094bb0>)\n",
      "(<openpyxl.cell.read_only.ReadOnlyCell object at 0x10d2c3048>, <openpyxl.cell.read_only.ReadOnlyCell object at 0x10d2c3888>, <openpyxl.cell.read_only.ReadOnlyCell object at 0x10d2c3938>, <openpyxl.cell.read_only.ReadOnlyCell object at 0x10d2c3990>, <openpyxl.cell.read_only.ReadOnlyCell object at 0x10d2c3360>, <openpyxl.cell.read_only.ReadOnlyCell object at 0x10d2c30a0>, <openpyxl.cell.read_only.EmptyCell object at 0x10b094bb0>, <openpyxl.cell.read_only.EmptyCell object at 0x10b094bb0>)\n",
      "(<openpyxl.cell.read_only.ReadOnlyCell object at 0x10d2c38e0>, <openpyxl.cell.read_only.ReadOnlyCell object at 0x10d2c39e8>, <openpyxl.cell.read_only.ReadOnlyCell object at 0x10d2c3518>, <openpyxl.cell.read_only.ReadOnlyCell object at 0x10d2c3570>, <openpyxl.cell.read_only.ReadOnlyCell object at 0x10d2c3a40>, <openpyxl.cell.read_only.ReadOnlyCell object at 0x10d2c3410>, <openpyxl.cell.read_only.EmptyCell object at 0x10b094bb0>, <openpyxl.cell.read_only.EmptyCell object at 0x10b094bb0>)\n",
      "(<openpyxl.cell.read_only.ReadOnlyCell object at 0x10d2c3938>, <openpyxl.cell.read_only.ReadOnlyCell object at 0x10d2c3990>, <openpyxl.cell.read_only.ReadOnlyCell object at 0x10d2c3360>, <openpyxl.cell.read_only.ReadOnlyCell object at 0x10d2c30a0>, <openpyxl.cell.read_only.ReadOnlyCell object at 0x10d2c3258>, <openpyxl.cell.read_only.ReadOnlyCell object at 0x10d2c3830>, <openpyxl.cell.read_only.EmptyCell object at 0x10b094bb0>, <openpyxl.cell.read_only.EmptyCell object at 0x10b094bb0>)\n"
     ]
    }
   ],
   "source": [
    "for row in project187.iter_rows():\n",
    "    print(row)"
   ]
  },
  {
   "cell_type": "markdown",
   "metadata": {},
   "source": [
    "#### Let's say we wanted to print all the non-null values in a column"
   ]
  },
  {
   "cell_type": "code",
   "execution_count": 11,
   "metadata": {
    "collapsed": false
   },
   "outputs": [
    {
     "name": "stdout",
     "output_type": "stream",
     "text": [
      "Page\n",
      "1 of 3\n",
      "Agenda\n",
      "Sum1\n",
      "Pres1\n",
      "Stand Alone Metric\n",
      "score\n",
      "4.5\n",
      "Comment Category\n",
      "Weight 30%\n",
      "score\n",
      "4.7\n",
      "Comment Category\n",
      "Weight 30%\n",
      "score\n",
      "4.5\n",
      "Comment Category\n",
      "Page\n",
      "2 of 3\n",
      "Agenda\n",
      "Sum1\n",
      "Pres1\n",
      "Weight 20%\n",
      "score\n",
      "4\n",
      "Comment Category\n",
      "Weight 10%\n",
      "score\n",
      "4.5\n",
      "Comment Category\n",
      "Weight 10%\n",
      "score\n",
      "4.8\n",
      "Comment Category\n",
      "Page\n",
      "3 of 3\n",
      "Agenda\n",
      "Sum1\n",
      "Pres1\n",
      "Not Scored\n",
      "Comment Category\n",
      "Not Scored\n",
      "Comment Category\n",
      "Not Scored\n",
      "Comment Category\n"
     ]
    }
   ],
   "source": [
    "for i in range(1, project187.max_row):\n",
    "    # Skip empty cells\n",
    "    if project187.cell(row=i, column=6).value:\n",
    "        print(project187.cell(row=i, column=6).value)"
   ]
  },
  {
   "cell_type": "markdown",
   "metadata": {},
   "source": [
    "#### Initialize a list to hold the scores"
   ]
  },
  {
   "cell_type": "code",
   "execution_count": 12,
   "metadata": {
    "collapsed": true
   },
   "outputs": [],
   "source": [
    "scores = []"
   ]
  },
  {
   "cell_type": "markdown",
   "metadata": {},
   "source": [
    "#### Iterate down the scores column and accumulate scores in the scores list"
   ]
  },
  {
   "cell_type": "code",
   "execution_count": 13,
   "metadata": {
    "collapsed": true
   },
   "outputs": [],
   "source": [
    "SCORES_COLUMN = 6"
   ]
  },
  {
   "cell_type": "code",
   "execution_count": 14,
   "metadata": {
    "collapsed": false
   },
   "outputs": [],
   "source": [
    "for i in range(1, project187.max_row):\n",
    "    # Skip empty cells\n",
    "    if project187.cell(row=i, column=SCORES_COLUMN).value:\n",
    "        # If a cell contains the word 'score'\n",
    "        if str(project187.cell(row=i, column=SCORES_COLUMN).value).lower() == 'score':\n",
    "            # Then the cell below it is the score value for which we are looking\n",
    "            scores.append(project187.cell(row=i+1, column=SCORES_COLUMN).value)"
   ]
  },
  {
   "cell_type": "code",
   "execution_count": 15,
   "metadata": {
    "collapsed": false
   },
   "outputs": [
    {
     "data": {
      "text/plain": [
       "[4.5, 4.7, 4.5, 4, 4.5, 4.8]"
      ]
     },
     "execution_count": 15,
     "metadata": {},
     "output_type": "execute_result"
    }
   ],
   "source": [
    "scores"
   ]
  },
  {
   "cell_type": "code",
   "execution_count": 16,
   "metadata": {
    "collapsed": false
   },
   "outputs": [
    {
     "data": {
      "text/plain": [
       "27.0"
      ]
     },
     "execution_count": 16,
     "metadata": {},
     "output_type": "execute_result"
    }
   ],
   "source": [
    "sum(scores)"
   ]
  },
  {
   "cell_type": "code",
   "execution_count": 17,
   "metadata": {
    "collapsed": false
   },
   "outputs": [
    {
     "data": {
      "text/plain": [
       "4.5"
      ]
     },
     "execution_count": 17,
     "metadata": {},
     "output_type": "execute_result"
    }
   ],
   "source": [
    "sum(scores)/len(scores)"
   ]
  },
  {
   "cell_type": "markdown",
   "metadata": {},
   "source": [
    "#### So what do we do from here?  Populate some other sheet in the same workbook?  Populate a new workbook?  ETL everything into a proper database and then point Tableau at it?"
   ]
  },
  {
   "cell_type": "code",
   "execution_count": null,
   "metadata": {
    "collapsed": true
   },
   "outputs": [],
   "source": []
  }
 ],
 "metadata": {
  "kernelspec": {
   "display_name": "Python 3",
   "language": "python",
   "name": "python3"
  },
  "language_info": {
   "codemirror_mode": {
    "name": "ipython",
    "version": 3
   },
   "file_extension": ".py",
   "mimetype": "text/x-python",
   "name": "python",
   "nbconvert_exporter": "python",
   "pygments_lexer": "ipython3",
   "version": "3.6.0"
  }
 },
 "nbformat": 4,
 "nbformat_minor": 0
}
